{
 "cells": [
  {
   "cell_type": "markdown",
   "metadata": {},
   "source": [
    "# Homework 2: Food Safety \n",
    "## Cleaning and Exploring Data with Pandas"
   ]
  },
  {
   "cell_type": "markdown",
   "metadata": {},
   "source": [
    "<img src=\"scoreCard.jpg\" width=400>\n",
    "\n",
    "In this homework, you will investigate restaurant food safety scores for restaurants in San Francisco. Above is a sample score card for a restaurant. The scores and violation information have been made available by the San Francisco Department of Public Health, and we have made these data available to you via the DS 100 repository. The main goal for this assignment is to understand how restaurants are scored. We will walk through the various steps of exploratory data analysis to do this. To give you a sense of how we think about each discovery we make and what next steps it leads to we will provide comments and insights along the way.\n",
    "\n",
    "As we clean and explore these data, you will gain practice with:\n",
    "* Reading simple csv files\n",
    "* Working with data at different levels of granularity\n",
    "* Identifying the type of data collected, missing values, anomalies, etc.\n",
    "* Exploring characteristics and distributions of individual variables"
   ]
  },
  {
   "cell_type": "markdown",
   "metadata": {},
   "source": [
    "### Question 0\n",
    "\n",
    "To start the assignment, run the cell below to set up some imports and the automatic tests that we will need for this assignment:"
   ]
  },
  {
   "cell_type": "code",
   "execution_count": 1,
   "metadata": {},
   "outputs": [
    {
     "name": "stdout",
     "output_type": "stream",
     "text": [
      "=====================================================================\n",
      "Assignment: Homework 2\n",
      "OK, version v1.13.4\n",
      "=====================================================================\n",
      "\n"
     ]
    }
   ],
   "source": [
    "import os\n",
    "from IPython.display import display, Latex, Markdown\n",
    "from client.api.notebook import Notebook\n",
    "import pandas as pd\n",
    "import matplotlib.pyplot as plt\n",
    "import numpy as np\n",
    "\n",
    "ok = Notebook('hw2.ok')"
   ]
  },
  {
   "cell_type": "markdown",
   "metadata": {},
   "source": [
    "In many of these assignments (and your future adventures as a data scientist) you will use pandas, numpy, matplotlib.pyplot, and seaborn.  \n",
    "\n",
    "1. Import each of these libraries `as` their commonly used abbreviations (e.g., `pd`, `np`, `plt`, and `sns`).  \n",
    "1. Don't forget to use the jupyter notebook \"magic\" to enable [inline matploblib plots](http://ipython.readthedocs.io/en/stable/interactive/magics.html#magic-matplotlib). \n",
    "1. Add the line `sns.set()` to make your plots look nicer."
   ]
  },
  {
   "cell_type": "code",
   "execution_count": null,
   "metadata": {
    "collapsed": true,
    "tags": [
     "student"
    ]
   },
   "outputs": [],
   "source": [
    "..."
   ]
  },
  {
   "cell_type": "markdown",
   "metadata": {},
   "source": [
    "Now, run this cell to log into OkPy:"
   ]
  },
  {
   "cell_type": "code",
   "execution_count": 2,
   "metadata": {},
   "outputs": [
    {
     "name": "stdout",
     "output_type": "stream",
     "text": [
      "Successfully logged in as leonrafael29@berkeley.edu\n"
     ]
    }
   ],
   "source": [
    "# Sometimes you'll run into an OAuth bug when you run ok.auth(). If so,\n",
    "# uncomment this line of code and run this cell again.\n",
    "# os.remove(os.path.join(os.path.expanduser('~'), '.config', 'ok', 'auth_refresh'))\n",
    "\n",
    "ok.auth()"
   ]
  },
  {
   "cell_type": "markdown",
   "metadata": {},
   "source": [
    "## Loading Food Safety Data\n",
    "\n",
    "To begin our investigation, we need to understand the structure of the data. Recall this involves answering questions such as \n",
    "\n",
    "* Is the data in a standard format or encoding?\n",
    "* Is the data organized in records?\n",
    "* What are the fields in each record?\n",
    "\n",
    "There are 4 files in the data directory.  Use the `ls -lh` command to list all the files and their sizes stored in the data directory.\n",
    "\n",
    "**Note for Windows users:** Unfortunately, since Windows is not a UNIX system most lines of shell code won't work. You can reference http://simplyadvanced.net/blog/cheat-sheet-for-windows-command-prompt/ for how to translate the code into the Windows command prompt, or you can use http://datahub.berkeley.edu/, or if you're feeling adventurous you can try to [set up Anaconda in Bash environment that Windows has recently started to support](http://www.cgranade.com/blog/2016/08/22/qutip-on-wsl.html)."
   ]
  },
  {
   "cell_type": "code",
   "execution_count": 3,
   "metadata": {
    "tags": [
     "student"
    ]
   },
   "outputs": [
    {
     "name": "stdout",
     "output_type": "stream",
     "text": [
      "total 1104\r\n",
      "-rw-r--r--   1 leongutierrez  staff   315K Sep 13 19:34 FoodSafetyInspectionExplanation.tiff\r\n",
      "drwxr-xr-x   6 leongutierrez  staff   204B Sep 14 13:08 \u001b[34mdata\u001b[m\u001b[m\r\n",
      "-rw-r--r--   1 leongutierrez  staff   148K Sep 14 13:34 hw2.ipynb\r\n",
      "-rw-r--r--   1 leongutierrez  staff   251B Sep 13 19:34 hw2.ok\r\n",
      "drwxr-xr-x  16 leongutierrez  staff   544B Sep 14 13:08 \u001b[34mok_tests\u001b[m\u001b[m\r\n",
      "-rw-r--r--   1 leongutierrez  staff    79K Sep 13 19:34 scoreCard.jpg\r\n"
     ]
    }
   ],
   "source": [
    "!ls -lh"
   ]
  },
  {
   "cell_type": "markdown",
   "metadata": {},
   "source": [
    "### Question 1a\n",
    "\n",
    "From the above output we see that one of the files is relatively small.  Use the `cat` command to cat that file and print what it contains.  "
   ]
  },
  {
   "cell_type": "code",
   "execution_count": 4,
   "metadata": {
    "tags": [
     "student"
    ]
   },
   "outputs": [
    {
     "name": "stdout",
     "output_type": "stream",
     "text": [
      "\"Minimum_Score\",\"Maximum_Score\",\"Description\"\r",
      "\r\n",
      "0,70,\"Poor\"\r",
      "\r\n",
      "71,85,\"Needs Improvement\"\r",
      "\r\n",
      "86,90,\"Adequate\"\r",
      "\r\n",
      "91,100,\"Good\"\r",
      "\r\n"
     ]
    }
   ],
   "source": [
    "!cat data/legend.csv"
   ]
  },
  {
   "cell_type": "markdown",
   "metadata": {},
   "source": [
    "### Question 1b\n",
    "\n",
    "Run the `head` command to verify that the remaining files are also CSV formatted as their file extension suggests"
   ]
  },
  {
   "cell_type": "code",
   "execution_count": 5,
   "metadata": {},
   "outputs": [
    {
     "name": "stdout",
     "output_type": "stream",
     "text": [
      "==> data/businesses.csv <==\r\n",
      "\"business_id\",\"name\",\"address\",\"city\",\"state\",\"postal_code\",\"latitude\",\"longitude\",\"phone_number\"\r",
      "\r\n",
      "10,\"TIRAMISU KITCHEN\",\"033 BELDEN PL\",\"San Francisco\",\"CA\",\"94104\",\"37.791116\",\"-122.403816\",\"+14154217044\"\r",
      "\r\n",
      "19,\"NRGIZE LIFESTYLE CAFE\",\"1200 VAN NESS AVE, 3RD FLOOR\",\"San Francisco\",\"CA\",\"94109\",\"37.786848\",\"-122.421547\",\"+14157763262\"\r",
      "\r\n",
      "24,\"OMNI S.F. HOTEL - 2ND FLOOR PANTRY\",\"500 CALIFORNIA ST, 2ND  FLOOR\",\"San Francisco\",\"CA\",\"94104\",\"37.792888\",\"-122.403135\",\"+14156779494\"\r",
      "\r\n",
      "31,\"NORMAN'S ICE CREAM AND FREEZES\",\"2801 LEAVENWORTH ST \",\"San Francisco\",\"CA\",\"94133\",\"37.807155\",\"-122.419004\",\"\"\r",
      "\r\n",
      "45,\"CHARLIE'S DELI CAFE\",\"3202 FOLSOM ST \",\"San Francisco\",\"CA\",\"94110\",\"37.747114\",\"-122.413641\",\"+14156415051\"\r",
      "\r\n",
      "48,\"ART'S CAFE\",\"747 IRVING ST \",\"San Francisco\",\"CA\",\"94122\",\"37.764013\",\"-122.465749\",\"+14156657440\"\r",
      "\r\n",
      "50,\"SUSHI ZONE\",\"1815  MARKET ST. \",\"San Francisco\",\"CA\",\"94103\",\"37.771437\",\"-122.423892\",\"+14156211114\"\r",
      "\r\n",
      "54,\"RHODA GOLDMAN PLAZA\",\"2180 POST ST \",\"San Francisco\",\"CA\",\"94115\",\"37.784626\",\"-122.437734\",\"+14153455060\"\r",
      "\r\n",
      "56,\"CAFE X + O\",\"1799 CHURCH ST \",\"San Francisco\",\"CA\",\"94131\",\"37.742325\",\"-122.426476\",\"+14158263535\"\r",
      "\r\n",
      "\r\n",
      "==> data/inspections.csv <==\r\n",
      "\"business_id\",\"score\",\"date\",\"type\"\r",
      "\r\n",
      "10,\"82\",\"20160503\",\"routine\"\r",
      "\r\n",
      "10,\"94\",\"20140729\",\"routine\"\r",
      "\r\n",
      "10,\"92\",\"20140114\",\"routine\"\r",
      "\r\n",
      "19,\"94\",\"20160513\",\"routine\"\r",
      "\r\n",
      "19,\"94\",\"20141110\",\"routine\"\r",
      "\r\n",
      "19,\"94\",\"20140214\",\"routine\"\r",
      "\r\n",
      "24,\"98\",\"20161005\",\"routine\"\r",
      "\r\n",
      "24,\"96\",\"20160311\",\"routine\"\r",
      "\r\n",
      "24,\"96\",\"20141124\",\"routine\"\r",
      "\r\n",
      "\r\n",
      "==> data/legend.csv <==\r\n",
      "\"Minimum_Score\",\"Maximum_Score\",\"Description\"\r",
      "\r\n",
      "0,70,\"Poor\"\r",
      "\r\n",
      "71,85,\"Needs Improvement\"\r",
      "\r\n",
      "86,90,\"Adequate\"\r",
      "\r\n",
      "91,100,\"Good\"\r",
      "\r\n",
      "\r\n",
      "==> data/violations.csv <==\r\n",
      "\"business_id\",\"date\",\"description\"\r",
      "\r\n",
      "10,\"20160503\",\"High risk food holding temperature   [ date violation corrected: 5/3/2016 ]\"\r",
      "\r\n",
      "10,\"20160503\",\"High risk food holding temperature   [ date violation corrected: 5/3/2016 ]\"\r",
      "\r\n",
      "10,\"20160503\",\"High risk vermin infestation\"\r",
      "\r\n",
      "10,\"20160503\",\"Unapproved or unmaintained equipment or utensils\"\r",
      "\r\n",
      "10,\"20160503\",\"No thermometers or uncalibrated thermometers \"\r",
      "\r\n",
      "10,\"20140729\",\"Insufficient hot water or running water  [ date violation corrected: 8/7/2014 ]\"\r",
      "\r\n",
      "10,\"20140729\",\"Unapproved or unmaintained equipment or utensils  [ date violation corrected: 8/7/2014 ]\"\r",
      "\r\n",
      "10,\"20140114\",\"Improper storage of equipment utensils or linens  [ date violation corrected: 1/24/2014 ]\"\r",
      "\r\n",
      "10,\"20140114\",\"Unclean or degraded floors walls or ceilings  [ date violation corrected: 1/24/2014 ]\"\r",
      "\r\n"
     ]
    }
   ],
   "source": [
    "!head data/*"
   ]
  },
  {
   "cell_type": "markdown",
   "metadata": {},
   "source": [
    "Answer the following boolean expressions using (True or False)."
   ]
  },
  {
   "cell_type": "code",
   "execution_count": 6,
   "metadata": {
    "collapsed": true,
    "tags": [
     "student"
    ]
   },
   "outputs": [],
   "source": [
    "# Are all the files CSV files?\n",
    "all_files_appear_to_be_csv = True\n",
    "\n",
    "# Do all the files have a header line?\n",
    "all_files_contain_headers = True\n",
    "# Do all the strings in the file have quotes around them?\n",
    "strings_appear_quoted = True\n"
   ]
  },
  {
   "cell_type": "markdown",
   "metadata": {},
   "source": [
    "### Question 1c\n",
    "\n",
    "Run the following command to determine the file encoding of each of these files"
   ]
  },
  {
   "cell_type": "code",
   "execution_count": 7,
   "metadata": {},
   "outputs": [
    {
     "name": "stdout",
     "output_type": "stream",
     "text": [
      "data/businesses.csv:  ISO-8859 text, with CRLF line terminators\n",
      "data/inspections.csv: ASCII text, with CRLF line terminators\n",
      "data/legend.csv:      ASCII text, with CRLF line terminators\n",
      "data/violations.csv:  ASCII text, with CRLF line terminators\n"
     ]
    }
   ],
   "source": [
    "!file data/*"
   ]
  },
  {
   "cell_type": "markdown",
   "metadata": {},
   "source": [
    "Based on the above information let's attempt to load the `businesses.csv`, `inspections.csv`, and the `violations.csv` into pandas data frames with the following names `bus`, `ins`, and `vio`.  Because of character encoding issues one of the files will require an additional argument `encoding='ISO-8859-1'` when calling `pd.read_csv`. "
   ]
  },
  {
   "cell_type": "code",
   "execution_count": 12,
   "metadata": {
    "tags": [
     "student"
    ]
   },
   "outputs": [],
   "source": [
    "# path to directory containing data\n",
    "dsDir = \"data/\"\n",
    "\n",
    "bus = pd.read_csv(\"data/businesses.csv\", encoding='ISO-8859-1')\n",
    "ins = pd.read_csv(\"data/inspections.csv\")\n",
    "vio = pd.read_csv(\"data/violations.csv\")\n"
   ]
  },
  {
   "cell_type": "markdown",
   "metadata": {},
   "source": [
    "Run the following cells in order to view a portion of each dataframe."
   ]
  },
  {
   "cell_type": "code",
   "execution_count": 13,
   "metadata": {},
   "outputs": [
    {
     "data": {
      "text/html": [
       "<div>\n",
       "<style>\n",
       "    .dataframe thead tr:only-child th {\n",
       "        text-align: right;\n",
       "    }\n",
       "\n",
       "    .dataframe thead th {\n",
       "        text-align: left;\n",
       "    }\n",
       "\n",
       "    .dataframe tbody tr th {\n",
       "        vertical-align: top;\n",
       "    }\n",
       "</style>\n",
       "<table border=\"1\" class=\"dataframe\">\n",
       "  <thead>\n",
       "    <tr style=\"text-align: right;\">\n",
       "      <th></th>\n",
       "      <th>business_id</th>\n",
       "      <th>name</th>\n",
       "      <th>address</th>\n",
       "      <th>city</th>\n",
       "      <th>state</th>\n",
       "      <th>postal_code</th>\n",
       "      <th>latitude</th>\n",
       "      <th>longitude</th>\n",
       "      <th>phone_number</th>\n",
       "    </tr>\n",
       "  </thead>\n",
       "  <tbody>\n",
       "    <tr>\n",
       "      <th>0</th>\n",
       "      <td>10</td>\n",
       "      <td>TIRAMISU KITCHEN</td>\n",
       "      <td>033 BELDEN PL</td>\n",
       "      <td>San Francisco</td>\n",
       "      <td>CA</td>\n",
       "      <td>94104</td>\n",
       "      <td>37.791116</td>\n",
       "      <td>-122.403816</td>\n",
       "      <td>+14154217044</td>\n",
       "    </tr>\n",
       "    <tr>\n",
       "      <th>1</th>\n",
       "      <td>19</td>\n",
       "      <td>NRGIZE LIFESTYLE CAFE</td>\n",
       "      <td>1200 VAN NESS AVE, 3RD FLOOR</td>\n",
       "      <td>San Francisco</td>\n",
       "      <td>CA</td>\n",
       "      <td>94109</td>\n",
       "      <td>37.786848</td>\n",
       "      <td>-122.421547</td>\n",
       "      <td>+14157763262</td>\n",
       "    </tr>\n",
       "    <tr>\n",
       "      <th>2</th>\n",
       "      <td>24</td>\n",
       "      <td>OMNI S.F. HOTEL - 2ND FLOOR PANTRY</td>\n",
       "      <td>500 CALIFORNIA ST, 2ND  FLOOR</td>\n",
       "      <td>San Francisco</td>\n",
       "      <td>CA</td>\n",
       "      <td>94104</td>\n",
       "      <td>37.792888</td>\n",
       "      <td>-122.403135</td>\n",
       "      <td>+14156779494</td>\n",
       "    </tr>\n",
       "    <tr>\n",
       "      <th>3</th>\n",
       "      <td>31</td>\n",
       "      <td>NORMAN'S ICE CREAM AND FREEZES</td>\n",
       "      <td>2801 LEAVENWORTH ST</td>\n",
       "      <td>San Francisco</td>\n",
       "      <td>CA</td>\n",
       "      <td>94133</td>\n",
       "      <td>37.807155</td>\n",
       "      <td>-122.419004</td>\n",
       "      <td>NaN</td>\n",
       "    </tr>\n",
       "    <tr>\n",
       "      <th>4</th>\n",
       "      <td>45</td>\n",
       "      <td>CHARLIE'S DELI CAFE</td>\n",
       "      <td>3202 FOLSOM ST</td>\n",
       "      <td>San Francisco</td>\n",
       "      <td>CA</td>\n",
       "      <td>94110</td>\n",
       "      <td>37.747114</td>\n",
       "      <td>-122.413641</td>\n",
       "      <td>+14156415051</td>\n",
       "    </tr>\n",
       "  </tbody>\n",
       "</table>\n",
       "</div>"
      ],
      "text/plain": [
       "   business_id                                name  \\\n",
       "0           10                    TIRAMISU KITCHEN   \n",
       "1           19               NRGIZE LIFESTYLE CAFE   \n",
       "2           24  OMNI S.F. HOTEL - 2ND FLOOR PANTRY   \n",
       "3           31      NORMAN'S ICE CREAM AND FREEZES   \n",
       "4           45                 CHARLIE'S DELI CAFE   \n",
       "\n",
       "                         address           city state postal_code   latitude  \\\n",
       "0                  033 BELDEN PL  San Francisco    CA       94104  37.791116   \n",
       "1   1200 VAN NESS AVE, 3RD FLOOR  San Francisco    CA       94109  37.786848   \n",
       "2  500 CALIFORNIA ST, 2ND  FLOOR  San Francisco    CA       94104  37.792888   \n",
       "3           2801 LEAVENWORTH ST   San Francisco    CA       94133  37.807155   \n",
       "4                3202 FOLSOM ST   San Francisco    CA       94110  37.747114   \n",
       "\n",
       "    longitude  phone_number  \n",
       "0 -122.403816  +14154217044  \n",
       "1 -122.421547  +14157763262  \n",
       "2 -122.403135  +14156779494  \n",
       "3 -122.419004           NaN  \n",
       "4 -122.413641  +14156415051  "
      ]
     },
     "execution_count": 13,
     "metadata": {},
     "output_type": "execute_result"
    }
   ],
   "source": [
    "bus.head(5)"
   ]
  },
  {
   "cell_type": "code",
   "execution_count": 11,
   "metadata": {},
   "outputs": [
    {
     "data": {
      "text/html": [
       "<div>\n",
       "<style>\n",
       "    .dataframe thead tr:only-child th {\n",
       "        text-align: right;\n",
       "    }\n",
       "\n",
       "    .dataframe thead th {\n",
       "        text-align: left;\n",
       "    }\n",
       "\n",
       "    .dataframe tbody tr th {\n",
       "        vertical-align: top;\n",
       "    }\n",
       "</style>\n",
       "<table border=\"1\" class=\"dataframe\">\n",
       "  <thead>\n",
       "    <tr style=\"text-align: right;\">\n",
       "      <th></th>\n",
       "      <th>business_id</th>\n",
       "      <th>score</th>\n",
       "      <th>date</th>\n",
       "      <th>type</th>\n",
       "    </tr>\n",
       "  </thead>\n",
       "  <tbody>\n",
       "    <tr>\n",
       "      <th>0</th>\n",
       "      <td>10</td>\n",
       "      <td>82</td>\n",
       "      <td>20160503</td>\n",
       "      <td>routine</td>\n",
       "    </tr>\n",
       "    <tr>\n",
       "      <th>1</th>\n",
       "      <td>10</td>\n",
       "      <td>94</td>\n",
       "      <td>20140729</td>\n",
       "      <td>routine</td>\n",
       "    </tr>\n",
       "    <tr>\n",
       "      <th>2</th>\n",
       "      <td>10</td>\n",
       "      <td>92</td>\n",
       "      <td>20140114</td>\n",
       "      <td>routine</td>\n",
       "    </tr>\n",
       "    <tr>\n",
       "      <th>3</th>\n",
       "      <td>19</td>\n",
       "      <td>94</td>\n",
       "      <td>20160513</td>\n",
       "      <td>routine</td>\n",
       "    </tr>\n",
       "    <tr>\n",
       "      <th>4</th>\n",
       "      <td>19</td>\n",
       "      <td>94</td>\n",
       "      <td>20141110</td>\n",
       "      <td>routine</td>\n",
       "    </tr>\n",
       "  </tbody>\n",
       "</table>\n",
       "</div>"
      ],
      "text/plain": [
       "   business_id  score      date     type\n",
       "0           10     82  20160503  routine\n",
       "1           10     94  20140729  routine\n",
       "2           10     92  20140114  routine\n",
       "3           19     94  20160513  routine\n",
       "4           19     94  20141110  routine"
      ]
     },
     "execution_count": 11,
     "metadata": {},
     "output_type": "execute_result"
    }
   ],
   "source": [
    "ins.head(5)"
   ]
  },
  {
   "cell_type": "code",
   "execution_count": 12,
   "metadata": {},
   "outputs": [
    {
     "data": {
      "text/html": [
       "<div>\n",
       "<style>\n",
       "    .dataframe thead tr:only-child th {\n",
       "        text-align: right;\n",
       "    }\n",
       "\n",
       "    .dataframe thead th {\n",
       "        text-align: left;\n",
       "    }\n",
       "\n",
       "    .dataframe tbody tr th {\n",
       "        vertical-align: top;\n",
       "    }\n",
       "</style>\n",
       "<table border=\"1\" class=\"dataframe\">\n",
       "  <thead>\n",
       "    <tr style=\"text-align: right;\">\n",
       "      <th></th>\n",
       "      <th>business_id</th>\n",
       "      <th>date</th>\n",
       "      <th>description</th>\n",
       "    </tr>\n",
       "  </thead>\n",
       "  <tbody>\n",
       "    <tr>\n",
       "      <th>0</th>\n",
       "      <td>10</td>\n",
       "      <td>20160503</td>\n",
       "      <td>High risk food holding temperature   [ date vi...</td>\n",
       "    </tr>\n",
       "    <tr>\n",
       "      <th>1</th>\n",
       "      <td>10</td>\n",
       "      <td>20160503</td>\n",
       "      <td>High risk food holding temperature   [ date vi...</td>\n",
       "    </tr>\n",
       "    <tr>\n",
       "      <th>2</th>\n",
       "      <td>10</td>\n",
       "      <td>20160503</td>\n",
       "      <td>High risk vermin infestation</td>\n",
       "    </tr>\n",
       "    <tr>\n",
       "      <th>3</th>\n",
       "      <td>10</td>\n",
       "      <td>20160503</td>\n",
       "      <td>Unapproved or unmaintained equipment or utensils</td>\n",
       "    </tr>\n",
       "    <tr>\n",
       "      <th>4</th>\n",
       "      <td>10</td>\n",
       "      <td>20160503</td>\n",
       "      <td>No thermometers or uncalibrated thermometers</td>\n",
       "    </tr>\n",
       "  </tbody>\n",
       "</table>\n",
       "</div>"
      ],
      "text/plain": [
       "   business_id      date                                        description\n",
       "0           10  20160503  High risk food holding temperature   [ date vi...\n",
       "1           10  20160503  High risk food holding temperature   [ date vi...\n",
       "2           10  20160503                       High risk vermin infestation\n",
       "3           10  20160503   Unapproved or unmaintained equipment or utensils\n",
       "4           10  20160503      No thermometers or uncalibrated thermometers "
      ]
     },
     "execution_count": 12,
     "metadata": {},
     "output_type": "execute_result"
    }
   ],
   "source": [
    "vio.head(5)"
   ]
  },
  {
   "cell_type": "markdown",
   "metadata": {},
   "source": [
    "### Question 1d\n",
    "\n",
    "In the following describe at least one potential problem with the above data. Consider issues with missing values and bad data.  "
   ]
  },
  {
   "cell_type": "code",
   "execution_count": 13,
   "metadata": {
    "tags": [
     "student",
     "written"
    ]
   },
   "outputs": [
    {
     "data": {
      "text/markdown": [
       "\n",
       "\n",
       "-The date in both the violations and the inspections data is not in standard form\n",
       "\n",
       "-There are some NaNs in the phone_number column\n",
       "\n"
      ],
      "text/plain": [
       "<IPython.core.display.Markdown object>"
      ]
     },
     "metadata": {},
     "output_type": "display_data"
    }
   ],
   "source": [
    "q1d_answer = r\"\"\"\n",
    "\n",
    "-The date in both the violations and the inspections data is not in standard form\n",
    "\n",
    "-There are some NaNs in the phone_number column\n",
    "\n",
    "\"\"\"\n",
    "\n",
    "display(Markdown(q1d_answer))"
   ]
  },
  {
   "cell_type": "code",
   "execution_count": 72,
   "metadata": {},
   "outputs": [
    {
     "name": "stdout",
     "output_type": "stream",
     "text": [
      "~~~~~~~~~~~~~~~~~~~~~~~~~~~~~~~~~~~~~~~~~~~~~~~~~~~~~~~~~~~~~~~~~~~~~\n",
      "Running tests\n",
      "\n",
      "---------------------------------------------------------------------\n",
      "Test summary\n",
      "    Passed: 1\n",
      "    Failed: 0\n",
      "[ooooooooook] 100.0% passed\n",
      "\n"
     ]
    },
    {
     "data": {
      "application/javascript": [
       "IPython.notebook.save_checkpoint();"
      ],
      "text/plain": [
       "<IPython.core.display.Javascript object>"
      ]
     },
     "metadata": {},
     "output_type": "display_data"
    },
    {
     "data": {
      "application/javascript": [
       "IPython.notebook.save_notebook();"
      ],
      "text/plain": [
       "<IPython.core.display.Javascript object>"
      ]
     },
     "metadata": {},
     "output_type": "display_data"
    },
    {
     "name": "stdout",
     "output_type": "stream",
     "text": [
      "Saving notebook... Saved 'hw2.ipynb'.\n",
      "Submit... 100% complete\n",
      "Submission successful for user: leonrafael29@berkeley.edu\n",
      "URL: https://okpy.org/cal/ds100/fa17/hw2/submissions/lY9J1g\n",
      "NOTE: this is only a backup. To submit your assignment, use:\n",
      "\tpython3 ok --submit\n",
      "\n"
     ]
    }
   ],
   "source": [
    "_ = ok.grade('q01')\n",
    "_ = ok.backup()"
   ]
  },
  {
   "cell_type": "markdown",
   "metadata": {},
   "source": [
    "## We will explore each file in turn, including determining its granularity and primary keys and exploring many of the variables indivdually. Let's begin with the businesses file, which has been read into the data.frame `bus`."
   ]
  },
  {
   "cell_type": "markdown",
   "metadata": {},
   "source": [
    "## Examining the Business data\n",
    "\n",
    "From its name alone, we expect the `businesses.csv` file to contain information about the restaurants. Let's investigate the granularity of this dataset.\n",
    "\n",
    "**Important note: From now on, the local autograder tests will not be comprehensive. You can pass the OkPy tests in your notebook but still fail tests in the autograder.** Please be sure to check your results carefully."
   ]
  },
  {
   "cell_type": "markdown",
   "metadata": {},
   "source": [
    "### Question 2\n",
    "\n",
    "#### Question 2a\n",
    "\n",
    "Examining the entries in in the `businesses.csv` table `bus` is the `business_id` unique for each record?"
   ]
  },
  {
   "cell_type": "code",
   "execution_count": 15,
   "metadata": {
    "tags": [
     "student"
    ]
   },
   "outputs": [
    {
     "data": {
      "text/plain": [
       "2047     1\n",
       "71088    1\n",
       "1458     1\n",
       "62900    1\n",
       "1466     1\n",
       "69051    1\n",
       "81341    1\n",
       "7617     1\n",
       "83394    1\n",
       "81349    1\n",
       "1482     1\n",
       "85451    1\n",
       "30156    1\n",
       "81357    1\n",
       "87927    1\n",
       "1490     1\n",
       "85459    1\n",
       "81365    1\n",
       "2843     1\n",
       "87512    1\n",
       "24025    1\n",
       "83418    1\n",
       "3547     1\n",
       "5974     1\n",
       "5544     1\n",
       "81269    1\n",
       "11687    1\n",
       "5504     1\n",
       "3459     1\n",
       "81285    1\n",
       "        ..\n",
       "85400    1\n",
       "80658    1\n",
       "2836     1\n",
       "86807    1\n",
       "78619    1\n",
       "2788     1\n",
       "62179    1\n",
       "87780    1\n",
       "78531    1\n",
       "80554    1\n",
       "76464    1\n",
       "66229    1\n",
       "39606    1\n",
       "4791     1\n",
       "82719    1\n",
       "84668    1\n",
       "86994    1\n",
       "83148    1\n",
       "2756     1\n",
       "82653    1\n",
       "709      1\n",
       "35469    1\n",
       "37575    1\n",
       "64202    1\n",
       "78539    1\n",
       "2764     1\n",
       "84692    1\n",
       "78555    1\n",
       "2780     1\n",
       "71683    1\n",
       "Name: business_id, Length: 6315, dtype: int64"
      ]
     },
     "execution_count": 15,
     "metadata": {},
     "output_type": "execute_result"
    }
   ],
   "source": [
    "\n",
    "bus['business_id'].value_counts()\n"
   ]
  },
  {
   "cell_type": "code",
   "execution_count": 73,
   "metadata": {
    "collapsed": true,
    "tags": [
     "student"
    ]
   },
   "outputs": [],
   "source": [
    "is_business_id_unique = True"
   ]
  },
  {
   "cell_type": "code",
   "execution_count": 74,
   "metadata": {},
   "outputs": [
    {
     "name": "stdout",
     "output_type": "stream",
     "text": [
      "~~~~~~~~~~~~~~~~~~~~~~~~~~~~~~~~~~~~~~~~~~~~~~~~~~~~~~~~~~~~~~~~~~~~~\n",
      "Running tests\n",
      "\n",
      "---------------------------------------------------------------------\n",
      "Test summary\n",
      "    Passed: 1\n",
      "    Failed: 0\n",
      "[ooooooooook] 100.0% passed\n",
      "\n"
     ]
    },
    {
     "data": {
      "application/javascript": [
       "IPython.notebook.save_checkpoint();"
      ],
      "text/plain": [
       "<IPython.core.display.Javascript object>"
      ]
     },
     "metadata": {},
     "output_type": "display_data"
    },
    {
     "data": {
      "application/javascript": [
       "IPython.notebook.save_notebook();"
      ],
      "text/plain": [
       "<IPython.core.display.Javascript object>"
      ]
     },
     "metadata": {},
     "output_type": "display_data"
    },
    {
     "name": "stdout",
     "output_type": "stream",
     "text": [
      "Saving notebook... Saved 'hw2.ipynb'.\n",
      "Submit... 100% complete\n",
      "Submission successful for user: leonrafael29@berkeley.edu\n",
      "URL: https://okpy.org/cal/ds100/fa17/hw2/submissions/pYjN1p\n",
      "NOTE: this is only a backup. To submit your assignment, use:\n",
      "\tpython3 ok --submit\n",
      "\n"
     ]
    }
   ],
   "source": [
    "_ = ok.grade('q02a')\n",
    "_ = ok.backup()"
   ]
  },
  {
   "cell_type": "markdown",
   "metadata": {
    "tags": [
     "written"
    ]
   },
   "source": [
    "#### Question 2b\n",
    "\n",
    "With this information, you can address the question of granularity and so answer the questions below.\n",
    "\n",
    "1. What is the granularity of the businesses data frame? \n",
    "1. How many records are there?\n",
    "1. What does each record represent (e.g., a store, a chain, a transaction)?  \n",
    "1. What is the primary key?\n",
    "\n",
    "Please write your answer in the `q2b_answer` variable. You may create new cells to run code as long as you don't delete the cell below."
   ]
  },
  {
   "cell_type": "code",
   "execution_count": 18,
   "metadata": {
    "tags": [
     "student"
    ]
   },
   "outputs": [
    {
     "data": {
      "text/plain": [
       "dtype('O')"
      ]
     },
     "execution_count": 18,
     "metadata": {},
     "output_type": "execute_result"
    }
   ],
   "source": [
    "bus['postal_code'].dtype"
   ]
  },
  {
   "cell_type": "code",
   "execution_count": 19,
   "metadata": {
    "tags": [
     "student",
     "written"
    ]
   },
   "outputs": [
    {
     "data": {
      "text/markdown": [
       "\n",
       "\n",
       "1. High granulaty\n",
       "2. 6315 records\n",
       "3. A business: coffee shops, hotels, restaurants, among others.\n",
       "4. The primary key is the business_id\n",
       "\n"
      ],
      "text/plain": [
       "<IPython.core.display.Markdown object>"
      ]
     },
     "metadata": {},
     "output_type": "display_data"
    }
   ],
   "source": [
    "q2b_answer = r\"\"\"\n",
    "\n",
    "1. High granulaty\n",
    "2. 6315 records\n",
    "3. A business: coffee shops, hotels, restaurants, among others.\n",
    "4. The primary key is the business_id\n",
    "\n",
    "\"\"\"\n",
    "\n",
    "display(Markdown(q2b_answer))"
   ]
  },
  {
   "cell_type": "markdown",
   "metadata": {
    "tags": [
     "written"
    ]
   },
   "source": [
    "## Zip code\n",
    "\n",
    "Next, let's  explore some of the variables in the business table. We begin by examining the postal code.\n",
    "\n",
    "### Question 3\n",
    "\n",
    "#### Question 3a\n",
    "\n",
    "\n",
    "What kind of values are in the variable postal code in the `bus` data frame?  \n",
    "1. Is zip code quantitative or qualitative? If qualitative, is it ordinal or nominal? \n",
    "1. How are the zip code values encoded in python: ints, floats, strings, booleans ...\n",
    "\n",
    "To answer the second question you might want to examine a particular entry."
   ]
  },
  {
   "cell_type": "code",
   "execution_count": 20,
   "metadata": {
    "tags": [
     "student",
     "written"
    ]
   },
   "outputs": [
    {
     "data": {
      "text/markdown": [
       "\n",
       "\n",
       "1. qualitative--> nominal\n",
       "2. objects\n",
       "\n"
      ],
      "text/plain": [
       "<IPython.core.display.Markdown object>"
      ]
     },
     "metadata": {},
     "output_type": "display_data"
    }
   ],
   "source": [
    "# Use this cell for your explorations.\n",
    "q3a_answer = r\"\"\"\n",
    "\n",
    "1. qualitative--> nominal\n",
    "2. objects\n",
    "\n",
    "\"\"\"\n",
    "\n",
    "display(Markdown(q3a_answer))"
   ]
  },
  {
   "cell_type": "markdown",
   "metadata": {},
   "source": [
    "#### Question 3b\n",
    "\n",
    "To explore the zip code values, it makes sense to examine counts, i.e., the number of records  that have the same zip code value. This is essentially answering the question: How many restaurants are in each zip code? \n",
    "\n",
    "Please generate a dataframe with `postal_code` as the index and a column called `count` which denotes the number of restaurants for each zip code.   If the zipcode is missing be sure to replace it with `MISSING` (e.g., by using `fillna`)."
   ]
  },
  {
   "cell_type": "code",
   "execution_count": 75,
   "metadata": {
    "collapsed": true,
    "tags": [
     "student"
    ]
   },
   "outputs": [],
   "source": [
    "zip_counts = bus=bus.fillna('MISSING')\n",
    "zip_counts = bus.groupby('postal_code').size().reset_index(name='count').set_index('postal_code')\n"
   ]
  },
  {
   "cell_type": "code",
   "execution_count": 76,
   "metadata": {},
   "outputs": [
    {
     "name": "stdout",
     "output_type": "stream",
     "text": [
      "~~~~~~~~~~~~~~~~~~~~~~~~~~~~~~~~~~~~~~~~~~~~~~~~~~~~~~~~~~~~~~~~~~~~~\n",
      "Running tests\n",
      "\n",
      "---------------------------------------------------------------------\n",
      "Test summary\n",
      "    Passed: 4\n",
      "    Failed: 0\n",
      "[ooooooooook] 100.0% passed\n",
      "\n"
     ]
    },
    {
     "data": {
      "application/javascript": [
       "IPython.notebook.save_checkpoint();"
      ],
      "text/plain": [
       "<IPython.core.display.Javascript object>"
      ]
     },
     "metadata": {},
     "output_type": "display_data"
    },
    {
     "data": {
      "application/javascript": [
       "IPython.notebook.save_notebook();"
      ],
      "text/plain": [
       "<IPython.core.display.Javascript object>"
      ]
     },
     "metadata": {},
     "output_type": "display_data"
    },
    {
     "name": "stdout",
     "output_type": "stream",
     "text": [
      "Saving notebook... Saved 'hw2.ipynb'.\n",
      "Submit... 100% complete\n",
      "Submission successful for user: leonrafael29@berkeley.edu\n",
      "URL: https://okpy.org/cal/ds100/fa17/hw2/submissions/v2pW10\n",
      "NOTE: this is only a backup. To submit your assignment, use:\n",
      "\tpython3 ok --submit\n",
      "\n"
     ]
    }
   ],
   "source": [
    "_ = ok.grade('q03b')\n",
    "_ = ok.backup()"
   ]
  },
  {
   "cell_type": "markdown",
   "metadata": {},
   "source": [
    "We see that there are many missing values for zip code. There is also some bad data where the postal code got screwed up, e.g., there are 3 'Ca' and 3 'CA' values. Additionally, there are some extended postal codes that are 9 digits long, rather than the typical 5 digits.\n",
    "\n",
    "Let's clean up the extended zip codes by dropping the digits beyond the first 5. It's typically good practice to keep the original values when we are manipulating data and place the modified data in a new column in the DataFrame. We'll call the new column `zip_code`."
   ]
  },
  {
   "cell_type": "code",
   "execution_count": 24,
   "metadata": {},
   "outputs": [
    {
     "data": {
      "text/plain": [
       "94110    586\n",
       "94103    559\n",
       "94102    458\n",
       "94107    451\n",
       "94133    417\n",
       "94109    383\n",
       "94111    282\n",
       "94122    270\n",
       "MISSI    259\n",
       "94118    243\n",
       "94115    238\n",
       "94114    230\n",
       "94105    226\n",
       "94108    224\n",
       "94117    197\n",
       "94112    190\n",
       "94123    169\n",
       "94124    164\n",
       "94121    161\n",
       "94132    134\n",
       "94104    133\n",
       "94116     93\n",
       "94134     74\n",
       "94127     71\n",
       "94131     48\n",
       "94158     17\n",
       "94130      8\n",
       "94143      5\n",
       "CA         3\n",
       "Ca         3\n",
       "94013      2\n",
       "94129      2\n",
       "94014      2\n",
       "94101      2\n",
       "94602      1\n",
       "94066      1\n",
       "94188      1\n",
       "94621      1\n",
       "941        1\n",
       "94545      1\n",
       "94120      1\n",
       "00000      1\n",
       "94609      1\n",
       "92672      1\n",
       "95105      1\n",
       "Name: zip_code, dtype: int64"
      ]
     },
     "execution_count": 24,
     "metadata": {},
     "output_type": "execute_result"
    }
   ],
   "source": [
    "# Run me\n",
    "bus['zip_code'] = bus['postal_code'].str[:5]\n",
    "bus['zip_code'].value_counts(dropna=False)"
   ]
  },
  {
   "cell_type": "markdown",
   "metadata": {
    "tags": [
     "written"
    ]
   },
   "source": [
    "#### Question 3c\n",
    "\n",
    "We notice that there are still a lot of missing values!  Examine the businesses with missing zipcode values.  Pay attention to their addresses.  Are there any patterns to missing values in zip codes?\n",
    "\n",
    "**Hint:** You can use `.iloc` to look at different sections of the DataFrame."
   ]
  },
  {
   "cell_type": "code",
   "execution_count": 25,
   "metadata": {
    "tags": [
     "student",
     "written"
    ]
   },
   "outputs": [
    {
     "data": {
      "text/markdown": [
       "\n",
       "\n",
       "-The addresses are not listed, instead it says 'OFF THE GRID', or 'PRIVATE PROPERTY'\n",
       "\n",
       "-Many of these businesses are taco restaurants, probably taco tracks\n",
       "\n"
      ],
      "text/plain": [
       "<IPython.core.display.Markdown object>"
      ]
     },
     "metadata": {},
     "output_type": "display_data"
    }
   ],
   "source": [
    "# Use this cell for your explorations.\n",
    "q3c_answer = r\"\"\"\n",
    "\n",
    "-The addresses are not listed, instead it says 'OFF THE GRID', or 'PRIVATE PROPERTY'\n",
    "\n",
    "-Many of these businesses are taco restaurants, probably taco tracks\n",
    "\n",
    "\"\"\"\n",
    "\n",
    "display(Markdown(q3c_answer))"
   ]
  },
  {
   "cell_type": "markdown",
   "metadata": {
    "tags": [
     "written"
    ]
   },
   "source": [
    "#### Question 3d\n",
    "\n",
    "Often times, we need to get additional information in order to understand whether or not the data are bad values or simply unusual values. With zip codes, we can use the Internet to investigate the zip codes that have only a few businesses. Investigate the restaurants at the following zip codes: *94545*, *94602*, and *94609*.  \n",
    "\n",
    "Briefly describe why these strange zip codes might be appropriate.  Where are they located and how might they relate to San Francisco?\n"
   ]
  },
  {
   "cell_type": "code",
   "execution_count": 26,
   "metadata": {},
   "outputs": [
    {
     "data": {
      "text/html": [
       "<div>\n",
       "<style>\n",
       "    .dataframe thead tr:only-child th {\n",
       "        text-align: right;\n",
       "    }\n",
       "\n",
       "    .dataframe thead th {\n",
       "        text-align: left;\n",
       "    }\n",
       "\n",
       "    .dataframe tbody tr th {\n",
       "        vertical-align: top;\n",
       "    }\n",
       "</style>\n",
       "<table border=\"1\" class=\"dataframe\">\n",
       "  <thead>\n",
       "    <tr style=\"text-align: right;\">\n",
       "      <th></th>\n",
       "      <th>business_id</th>\n",
       "      <th>name</th>\n",
       "      <th>address</th>\n",
       "      <th>city</th>\n",
       "      <th>state</th>\n",
       "      <th>postal_code</th>\n",
       "      <th>latitude</th>\n",
       "      <th>longitude</th>\n",
       "      <th>phone_number</th>\n",
       "    </tr>\n",
       "    <tr>\n",
       "      <th>zip_code</th>\n",
       "      <th></th>\n",
       "      <th></th>\n",
       "      <th></th>\n",
       "      <th></th>\n",
       "      <th></th>\n",
       "      <th></th>\n",
       "      <th></th>\n",
       "      <th></th>\n",
       "      <th></th>\n",
       "    </tr>\n",
       "  </thead>\n",
       "  <tbody>\n",
       "    <tr>\n",
       "      <th>94545</th>\n",
       "      <td>5755</td>\n",
       "      <td>J &amp; J VENDING</td>\n",
       "      <td>VARIOUS LOACATIONS (17)</td>\n",
       "      <td>San Francisco</td>\n",
       "      <td>CA</td>\n",
       "      <td>94545</td>\n",
       "      <td>MISSING</td>\n",
       "      <td>MISSING</td>\n",
       "      <td>+14156750910</td>\n",
       "    </tr>\n",
       "    <tr>\n",
       "      <th>94602</th>\n",
       "      <td>85459</td>\n",
       "      <td>ORBIT ROOM</td>\n",
       "      <td>1900 MARKET ST</td>\n",
       "      <td>San Francisco</td>\n",
       "      <td>CA</td>\n",
       "      <td>94602</td>\n",
       "      <td>MISSING</td>\n",
       "      <td>MISSING</td>\n",
       "      <td>+14153705584</td>\n",
       "    </tr>\n",
       "    <tr>\n",
       "      <th>94609</th>\n",
       "      <td>65673</td>\n",
       "      <td>DOC'S OF THE BAY</td>\n",
       "      <td>PUBLIC RIGHT OF WAY</td>\n",
       "      <td>San Francisco</td>\n",
       "      <td>CA</td>\n",
       "      <td>94609</td>\n",
       "      <td>37.8346</td>\n",
       "      <td>-122.264</td>\n",
       "      <td>+14156883245</td>\n",
       "    </tr>\n",
       "  </tbody>\n",
       "</table>\n",
       "</div>"
      ],
      "text/plain": [
       "          business_id              name                  address  \\\n",
       "zip_code                                                           \n",
       "94545            5755     J & J VENDING  VARIOUS LOACATIONS (17)   \n",
       "94602           85459        ORBIT ROOM          1900 MARKET ST    \n",
       "94609           65673  DOC'S OF THE BAY    PUBLIC RIGHT OF WAY     \n",
       "\n",
       "                   city state postal_code latitude longitude  phone_number  \n",
       "zip_code                                                                    \n",
       "94545     San Francisco    CA       94545  MISSING   MISSING  +14156750910  \n",
       "94602     San Francisco    CA       94602  MISSING   MISSING  +14153705584  \n",
       "94609     San Francisco    CA       94609  37.8346  -122.264  +14156883245  "
      ]
     },
     "execution_count": 26,
     "metadata": {},
     "output_type": "execute_result"
    }
   ],
   "source": [
    "bus.set_index('zip_code').loc[[\"94545\", \"94602\", \"94609\"]]"
   ]
  },
  {
   "cell_type": "code",
   "execution_count": 27,
   "metadata": {
    "tags": [
     "student",
     "written"
    ]
   },
   "outputs": [
    {
     "data": {
      "text/markdown": [
       "\n",
       "\n",
       "94545 - This zip code belongs to Hayward, CA. This zip code relates to San Francisco because J&J Vending Inc. is a business that provides food services to the SF Bay Area.\n",
       "\n",
       "94602 - This zip code belongs to Oakland, CA. This zip code might not be appropiate because the address 1900 Market St doesn't exist in Oakland. Orbit Room is located in 1900 Market St. in San Francisco where the zip code is 94102. There is a typo, instead of 6 it should be a 1.\n",
       "\n",
       "94609 - This zip code belongs to Oakland, CA. This zip code might be appropiate because Doc's of the Bay, a food track, serves the San Francisco Bay Area. \n",
       "\n",
       "\n",
       "\n",
       "\n"
      ],
      "text/plain": [
       "<IPython.core.display.Markdown object>"
      ]
     },
     "metadata": {},
     "output_type": "display_data"
    }
   ],
   "source": [
    "# Use this cell for your explorations.\n",
    "q3d_answer = r\"\"\"\n",
    "\n",
    "94545 - This zip code belongs to Hayward, CA. This zip code relates to San Francisco because J&J Vending Inc. is a business that provides food services to the SF Bay Area.\n",
    "\n",
    "94602 - This zip code belongs to Oakland, CA. This zip code might not be appropiate because the address 1900 Market St doesn't exist in Oakland. Orbit Room is located in 1900 Market St. in San Francisco where the zip code is 94102. There is a typo, instead of 6 it should be a 1.\n",
    "\n",
    "94609 - This zip code belongs to Oakland, CA. This zip code might be appropiate because Doc's of the Bay, a food track, serves the San Francisco Bay Area. \n",
    "\n",
    "\n",
    "\n",
    "\n",
    "\"\"\"\n",
    "\n",
    "display(Markdown(q3d_answer))"
   ]
  },
  {
   "cell_type": "markdown",
   "metadata": {},
   "source": [
    "#### Question 3e\n",
    "\n",
    "Often want to clean the data to improve our analysis. This cleaning might include changing values for a variable or dropping records.\n",
    "\n",
    "Let's correct 94602 to the more likely value based on your analysis.  Let's modify the derived field `zip_code` using `bus['zip_code'].str.replace` to replace 94602 with the correct value."
   ]
  },
  {
   "cell_type": "code",
   "execution_count": 28,
   "metadata": {
    "collapsed": true,
    "tags": [
     "student"
    ]
   },
   "outputs": [],
   "source": [
    "\n",
    "\n",
    "bus['zip_code'] = bus['zip_code'].str.replace(\"94602\",\"94102\")"
   ]
  },
  {
   "cell_type": "code",
   "execution_count": 29,
   "metadata": {},
   "outputs": [
    {
     "name": "stdout",
     "output_type": "stream",
     "text": [
      "~~~~~~~~~~~~~~~~~~~~~~~~~~~~~~~~~~~~~~~~~~~~~~~~~~~~~~~~~~~~~~~~~~~~~\n",
      "Running tests\n",
      "\n",
      "---------------------------------------------------------------------\n",
      "Test summary\n",
      "    Passed: 1\n",
      "    Failed: 0\n",
      "[ooooooooook] 100.0% passed\n",
      "\n"
     ]
    },
    {
     "data": {
      "application/javascript": [
       "IPython.notebook.save_checkpoint();"
      ],
      "text/plain": [
       "<IPython.core.display.Javascript object>"
      ]
     },
     "metadata": {},
     "output_type": "display_data"
    },
    {
     "data": {
      "application/javascript": [
       "IPython.notebook.save_notebook();"
      ],
      "text/plain": [
       "<IPython.core.display.Javascript object>"
      ]
     },
     "metadata": {},
     "output_type": "display_data"
    },
    {
     "name": "stdout",
     "output_type": "stream",
     "text": [
      "Saving notebook... Saved 'hw2.ipynb'.\n",
      "Backup... 100% complete\n",
      "Backup successful for user: leonrafael29@berkeley.edu\n",
      "URL: https://okpy.org/cal/ds100/fa17/hw2/backups/2kwjpA\n",
      "NOTE: this is only a backup. To submit your assignment, use:\n",
      "\tpython3 ok --submit\n",
      "\n"
     ]
    }
   ],
   "source": [
    "_ = ok.grade('q03e')\n",
    "_ = ok.backup()"
   ]
  },
  {
   "cell_type": "markdown",
   "metadata": {},
   "source": [
    "## Latitude and Longitude\n",
    "\n",
    "Another aspect of the data we want to consider is the prevalence of missing values. If many records have missing values then we might be concerned about whether the nonmissing values are represenative of the population.\n",
    "\n",
    "### Question 4\n",
    " \n",
    "Consider the longitude and latitude in the business DataFrame. \n",
    "\n",
    "#### Question 4a\n",
    "\n",
    "How many businesses are missing longitude and latitude values?"
   ]
  },
  {
   "cell_type": "code",
   "execution_count": 30,
   "metadata": {
    "collapsed": true,
    "tags": [
     "student"
    ]
   },
   "outputs": [],
   "source": [
    "missing_latlongs = np.count_nonzero(bus['longitude']=='MISSING')\n"
   ]
  },
  {
   "cell_type": "code",
   "execution_count": 31,
   "metadata": {},
   "outputs": [
    {
     "name": "stdout",
     "output_type": "stream",
     "text": [
      "~~~~~~~~~~~~~~~~~~~~~~~~~~~~~~~~~~~~~~~~~~~~~~~~~~~~~~~~~~~~~~~~~~~~~\n",
      "Running tests\n",
      "\n",
      "---------------------------------------------------------------------\n",
      "Test summary\n",
      "    Passed: 1\n",
      "    Failed: 0\n",
      "[ooooooooook] 100.0% passed\n",
      "\n"
     ]
    },
    {
     "data": {
      "application/javascript": [
       "IPython.notebook.save_checkpoint();"
      ],
      "text/plain": [
       "<IPython.core.display.Javascript object>"
      ]
     },
     "metadata": {},
     "output_type": "display_data"
    },
    {
     "data": {
      "application/javascript": [
       "IPython.notebook.save_notebook();"
      ],
      "text/plain": [
       "<IPython.core.display.Javascript object>"
      ]
     },
     "metadata": {},
     "output_type": "display_data"
    },
    {
     "name": "stdout",
     "output_type": "stream",
     "text": [
      "Saving notebook... Saved 'hw2.ipynb'.\n",
      "Backup... 100% complete\n",
      "Backup successful for user: leonrafael29@berkeley.edu\n",
      "URL: https://okpy.org/cal/ds100/fa17/hw2/backups/31xkqp\n",
      "NOTE: this is only a backup. To submit your assignment, use:\n",
      "\tpython3 ok --submit\n",
      "\n"
     ]
    }
   ],
   "source": [
    "_ = ok.grade('q04a')\n",
    "_ = ok.backup()"
   ]
  },
  {
   "cell_type": "markdown",
   "metadata": {
    "collapsed": true
   },
   "source": [
    "Do some zip codes have more than their fair share of missing lat/lon values?\n",
    "\n",
    "Let's reduce our comparison to just those zips that are in SF and that have many businesses. Below is a list of zip codes."
   ]
  },
  {
   "cell_type": "code",
   "execution_count": 32,
   "metadata": {
    "collapsed": true
   },
   "outputs": [],
   "source": [
    "validZip = [\"94102\", \"94103\", \"94104\", \"94105\", \"94107\", \"94108\",\n",
    "            \"94109\", \"94110\", \"94111\", \"94112\", \"94114\", \"94115\",\n",
    "            \"94116\", \"94117\", \"94118\", \"94121\", \"94122\", \"94123\", \n",
    "            \"94124\", \"94127\", \"94131\", \"94132\", \"94133\", \"94134\"]"
   ]
  },
  {
   "cell_type": "markdown",
   "metadata": {},
   "source": [
    "#### Question 4b\n",
    "\n",
    "For these zip codes find the number of businesses in each zip code and the number without longitude values. Do any zip codes appear to have more than their 'fair share' of missing longitude? To answer this, you will want to compare the proportion of missing values for each zip code.\n",
    "\n",
    "Create a new dataframe of counts of the null and proportion of null values, storing the result in `bus_sf_latlong`. It should have 3 columns:\n",
    "\n",
    "1. `zip_code`: Contains the zip codes in the `validZip` variable above.\n",
    "2. `null_lon`: The number of missing values for the zip code.\n",
    "3. `not_null_lon`: The proportion of present values for the zip code."
   ]
  },
  {
   "cell_type": "code",
   "execution_count": 33,
   "metadata": {
    "collapsed": true,
    "tags": [
     "student"
    ]
   },
   "outputs": [],
   "source": [
    "\n",
    "# You might want to filter the bus dataframe to contain only the validZip\n",
    "bus_sf = bus[bus['zip_code'].isin(validZip)]\n",
    "\n",
    "\n",
    "# Create a new dataframe of counts of the null and proportion of null values\n",
    "bus_sf_latlong = pd.DataFrame(columns = [\"zip_code\", \"null_lon\", \"not_null_lon\"])\n",
    "bus_sf_latlong['zip_code']=validZip\n",
    "bus_sf_latlong['null_lon']=[len(bus_sf[(bus_sf['zip_code']==x) & (bus_sf['longitude']=='MISSING')]) for x in validZip]\n",
    "bus_sf_latlong['not_null_lon']=[len(bus_sf[(bus_sf['zip_code']==x) & (bus_sf['longitude'].notnull())]) for x in validZip]\n",
    "\n"
   ]
  },
  {
   "cell_type": "code",
   "execution_count": 34,
   "metadata": {},
   "outputs": [
    {
     "name": "stdout",
     "output_type": "stream",
     "text": [
      "~~~~~~~~~~~~~~~~~~~~~~~~~~~~~~~~~~~~~~~~~~~~~~~~~~~~~~~~~~~~~~~~~~~~~\n",
      "Running tests\n",
      "\n",
      "---------------------------------------------------------------------\n",
      "Test summary\n",
      "    Passed: 1\n",
      "    Failed: 0\n",
      "[ooooooooook] 100.0% passed\n",
      "\n"
     ]
    },
    {
     "data": {
      "application/javascript": [
       "IPython.notebook.save_checkpoint();"
      ],
      "text/plain": [
       "<IPython.core.display.Javascript object>"
      ]
     },
     "metadata": {},
     "output_type": "display_data"
    },
    {
     "data": {
      "application/javascript": [
       "IPython.notebook.save_notebook();"
      ],
      "text/plain": [
       "<IPython.core.display.Javascript object>"
      ]
     },
     "metadata": {},
     "output_type": "display_data"
    },
    {
     "name": "stdout",
     "output_type": "stream",
     "text": [
      "Saving notebook... Saved 'hw2.ipynb'.\n",
      "Backup... 100% complete\n",
      "Backup successful for user: leonrafael29@berkeley.edu\n",
      "URL: https://okpy.org/cal/ds100/fa17/hw2/backups/68AnwN\n",
      "NOTE: this is only a backup. To submit your assignment, use:\n",
      "\tpython3 ok --submit\n",
      "\n"
     ]
    }
   ],
   "source": [
    "_ = ok.grade('q04b')\n",
    "_ = ok.backup()"
   ]
  },
  {
   "cell_type": "markdown",
   "metadata": {},
   "source": [
    "## Summary of the business data\n",
    "\n",
    "Before we move on to explore the other data, let's take stock of what we have learned and the implications of our findings on future analysis. \n",
    "\n",
    "* We found that the business id is unique across records and so we may be able to use it as a key in joining tables. \n",
    "* We also found that there are some bad values in zip code. As a result, we may want to drop the records with zip codes outside of San Francisco or to treat them differently. For some of the bad values, we may want to take the time to look up the restaurant address online and fix these errors.   \n",
    "* We also found that there are many missing values in latitude and longitude. These may have implications on map making and geographic patterns if the missingness is related to location or restaurant score."
   ]
  },
  {
   "cell_type": "markdown",
   "metadata": {},
   "source": [
    "# Investigate the inspection data\n",
    "\n",
    "Let's now turn to the inspection DataFrame. Earlier, we found that `ins` has 4 columns, these are named `business_id`, `score`, `date` and `type`.  In this section, we determine the granularity of `ins` and investigate the kinds of information provided for the inspections. \n",
    "\n",
    "### Question 5\n",
    "\n",
    "#### Question 5a\n",
    "As with the business data, assess whether there is one inspection record for each business. "
   ]
  },
  {
   "cell_type": "code",
   "execution_count": 77,
   "metadata": {
    "tags": [
     "student"
    ]
   },
   "outputs": [
    {
     "data": {
      "text/plain": [
       "'This tells me that some businesses had more than one inspection'"
      ]
     },
     "execution_count": 77,
     "metadata": {},
     "output_type": "execute_result"
    }
   ],
   "source": [
    "# The number of rows in ins\n",
    "rows_in_table = len(ins)\n",
    "\n",
    "\n",
    "# The number of unique IDs in ins.\n",
    "unique_ins_ids = len(ins['business_id'].unique())\n",
    "\n",
    "\n",
    "# What does this tell you?\n",
    "'This tells me that some businesses had more than one inspection'"
   ]
  },
  {
   "cell_type": "code",
   "execution_count": 78,
   "metadata": {},
   "outputs": [
    {
     "name": "stdout",
     "output_type": "stream",
     "text": [
      "~~~~~~~~~~~~~~~~~~~~~~~~~~~~~~~~~~~~~~~~~~~~~~~~~~~~~~~~~~~~~~~~~~~~~\n",
      "Running tests\n",
      "\n",
      "---------------------------------------------------------------------\n",
      "Test summary\n",
      "    Passed: 1\n",
      "    Failed: 0\n",
      "[ooooooooook] 100.0% passed\n",
      "\n"
     ]
    },
    {
     "data": {
      "application/javascript": [
       "IPython.notebook.save_checkpoint();"
      ],
      "text/plain": [
       "<IPython.core.display.Javascript object>"
      ]
     },
     "metadata": {},
     "output_type": "display_data"
    },
    {
     "data": {
      "application/javascript": [
       "IPython.notebook.save_notebook();"
      ],
      "text/plain": [
       "<IPython.core.display.Javascript object>"
      ]
     },
     "metadata": {},
     "output_type": "display_data"
    },
    {
     "name": "stdout",
     "output_type": "stream",
     "text": [
      "Saving notebook... Saved 'hw2.ipynb'.\n",
      "Submit... 100% complete\n",
      "Submission successful for user: leonrafael29@berkeley.edu\n",
      "URL: https://okpy.org/cal/ds100/fa17/hw2/submissions/ADYBp3\n",
      "NOTE: this is only a backup. To submit your assignment, use:\n",
      "\tpython3 ok --submit\n",
      "\n"
     ]
    }
   ],
   "source": [
    "_ = ok.grade('q05a')\n",
    "_ = ok.backup()"
   ]
  },
  {
   "cell_type": "markdown",
   "metadata": {},
   "source": [
    "#### Question 5b\n",
    "\n",
    "Next, we examine the `type` variable. From examining the first few rows of `ins`, we see that `type` is a string and one of the values in the string is 'routine', presumably for a routine inspection. What values does `type` take on? How many occurrences of each value is in the DataFrame? What are the implications for further analysis?"
   ]
  },
  {
   "cell_type": "code",
   "execution_count": 79,
   "metadata": {
    "tags": [
     "student"
    ]
   },
   "outputs": [
    {
     "data": {
      "text/html": [
       "<div>\n",
       "<style>\n",
       "    .dataframe thead tr:only-child th {\n",
       "        text-align: right;\n",
       "    }\n",
       "\n",
       "    .dataframe thead th {\n",
       "        text-align: left;\n",
       "    }\n",
       "\n",
       "    .dataframe tbody tr th {\n",
       "        vertical-align: top;\n",
       "    }\n",
       "</style>\n",
       "<table border=\"1\" class=\"dataframe\">\n",
       "  <thead>\n",
       "    <tr style=\"text-align: right;\">\n",
       "      <th></th>\n",
       "      <th>business_id</th>\n",
       "      <th>score</th>\n",
       "      <th>date</th>\n",
       "      <th>new_date</th>\n",
       "      <th>year</th>\n",
       "    </tr>\n",
       "    <tr>\n",
       "      <th>type</th>\n",
       "      <th></th>\n",
       "      <th></th>\n",
       "      <th></th>\n",
       "      <th></th>\n",
       "      <th></th>\n",
       "    </tr>\n",
       "  </thead>\n",
       "  <tbody>\n",
       "    <tr>\n",
       "      <th>complaint</th>\n",
       "      <td>1</td>\n",
       "      <td>1</td>\n",
       "      <td>1</td>\n",
       "      <td>1</td>\n",
       "      <td>1</td>\n",
       "    </tr>\n",
       "    <tr>\n",
       "      <th>routine</th>\n",
       "      <td>15429</td>\n",
       "      <td>15429</td>\n",
       "      <td>15429</td>\n",
       "      <td>15429</td>\n",
       "      <td>15429</td>\n",
       "    </tr>\n",
       "  </tbody>\n",
       "</table>\n",
       "</div>"
      ],
      "text/plain": [
       "           business_id  score   date  new_date   year\n",
       "type                                                 \n",
       "complaint            1      1      1         1      1\n",
       "routine          15429  15429  15429     15429  15429"
      ]
     },
     "execution_count": 79,
     "metadata": {},
     "output_type": "execute_result"
    }
   ],
   "source": [
    "ins.groupby('type').count()"
   ]
  },
  {
   "cell_type": "code",
   "execution_count": 39,
   "metadata": {
    "tags": [
     "student",
     "written"
    ]
   },
   "outputs": [
    {
     "data": {
      "text/markdown": [
       "\n",
       "\n",
       "-type takes on two values: 'complaint' and 'routine'\n",
       "\n",
       "-1 occurrence of 'complaint' and 15429 instances of 'routine'\n",
       "\n",
       "-It is not going to be possible to compare the inspections with respect to type because there is only one 'complaint'.\n",
       "\n",
       "\n",
       "\n"
      ],
      "text/plain": [
       "<IPython.core.display.Markdown object>"
      ]
     },
     "metadata": {},
     "output_type": "display_data"
    }
   ],
   "source": [
    "q5b_answer = r\"\"\"\n",
    "\n",
    "-type takes on two values: 'complaint' and 'routine'\n",
    "\n",
    "-1 occurrence of 'complaint' and 15429 instances of 'routine'\n",
    "\n",
    "-It is not going to be possible to compare the inspections with respect to type because there is only one 'complaint'.\n",
    "\n",
    "\n",
    "\n",
    "\"\"\"\n",
    "\n",
    "display(Markdown(q5b_answer))"
   ]
  },
  {
   "cell_type": "markdown",
   "metadata": {},
   "source": [
    "#### Question 5c\n",
    "\n",
    "Since the data was stored in a .csv file, the dates are formatted as strings such as `20160503`. Once we read in the data, we would like to have dates in an appropriate format for analsysis. Add a new column called `new_date` which formats the `date` into a datetime object. Then add a column called `year` with only the year.\n",
    "\n",
    "*Hint: You'll want to use the `pd.datetime` functionality at some point.*"
   ]
  },
  {
   "cell_type": "code",
   "execution_count": 43,
   "metadata": {
    "collapsed": true,
    "tags": [
     "student"
    ]
   },
   "outputs": [],
   "source": [
    "ins['new_date'] = pd.to_datetime(ins['date'], format=\"%Y%m%d\")\n",
    "\n",
    "\n",
    "ins['year'] = ins['new_date'].dt.year\n",
    "\n",
    "\n"
   ]
  },
  {
   "cell_type": "code",
   "execution_count": 44,
   "metadata": {},
   "outputs": [
    {
     "name": "stdout",
     "output_type": "stream",
     "text": [
      "~~~~~~~~~~~~~~~~~~~~~~~~~~~~~~~~~~~~~~~~~~~~~~~~~~~~~~~~~~~~~~~~~~~~~\n",
      "Running tests\n",
      "\n",
      "---------------------------------------------------------------------\n",
      "Test summary\n",
      "    Passed: 1\n",
      "    Failed: 0\n",
      "[ooooooooook] 100.0% passed\n",
      "\n"
     ]
    },
    {
     "data": {
      "application/javascript": [
       "IPython.notebook.save_checkpoint();"
      ],
      "text/plain": [
       "<IPython.core.display.Javascript object>"
      ]
     },
     "metadata": {},
     "output_type": "display_data"
    },
    {
     "data": {
      "application/javascript": [
       "IPython.notebook.save_notebook();"
      ],
      "text/plain": [
       "<IPython.core.display.Javascript object>"
      ]
     },
     "metadata": {},
     "output_type": "display_data"
    },
    {
     "name": "stdout",
     "output_type": "stream",
     "text": [
      "Saving notebook... Saved 'hw2.ipynb'.\n",
      "Backup... 100% complete\n",
      "Backup successful for user: leonrafael29@berkeley.edu\n",
      "URL: https://okpy.org/cal/ds100/fa17/hw2/backups/J69OgK\n",
      "NOTE: this is only a backup. To submit your assignment, use:\n",
      "\tpython3 ok --submit\n",
      "\n"
     ]
    }
   ],
   "source": [
    "_ = ok.grade('q05c')\n",
    "_ = ok.backup()"
   ]
  },
  {
   "cell_type": "markdown",
   "metadata": {
    "tags": [
     "written"
    ]
   },
   "source": [
    "#### Question 5d\n",
    "\n",
    "What range of years is covered in this data set? Are there roughly same number of inspections each year?"
   ]
  },
  {
   "cell_type": "code",
   "execution_count": 45,
   "metadata": {
    "tags": [
     "student",
     "written"
    ]
   },
   "outputs": [
    {
     "name": "stdout",
     "output_type": "stream",
     "text": [
      "2013\n",
      "2016\n",
      "3923\n",
      "5629\n",
      "38\n"
     ]
    },
    {
     "data": {
      "text/markdown": [
       "\n",
       "-This data set covers a range from 2013 to 2016\n",
       "\n",
       "-No, there are only 38 inspections in 2013, 5629 inspections in 2014, 3923 inpections in 2015, and 5840 inspections in 2016\n"
      ],
      "text/plain": [
       "<IPython.core.display.Markdown object>"
      ]
     },
     "metadata": {},
     "output_type": "display_data"
    }
   ],
   "source": [
    "print(ins['year'].min())\n",
    "print(ins['year'].max())\n",
    "ins2015 = ins[ins['year']==2015]\n",
    "print(len(ins2015))\n",
    "ins2014 = ins[ins['year']==2014]\n",
    "print(len(ins2014))\n",
    "ins2013 = ins[ins['year']==2013]\n",
    "print(len(ins2013))\n",
    "\n",
    "\n",
    "q5d_answer = r\"\"\"\n",
    "-This data set covers a range from 2013 to 2016\n",
    "\n",
    "-No, there are only 38 inspections in 2013, 5629 inspections in 2014, 3923 inpections in 2015, and 5840 inspections in 2016\n",
    "\"\"\"\n",
    "\n",
    "display(Markdown(q5d_answer))"
   ]
  },
  {
   "cell_type": "markdown",
   "metadata": {},
   "source": [
    "Let's examine only the inspections for one year, 2016. This puts businesses on a more equal footing because [inspection guidelines](https://www.sfdph.org/dph/eh/Food/Inspections.asp) generally refer to how many inspections should occur in a given year."
   ]
  },
  {
   "cell_type": "code",
   "execution_count": 46,
   "metadata": {
    "collapsed": true
   },
   "outputs": [],
   "source": [
    "ins2016 = ins[ins['year']==2016]"
   ]
  },
  {
   "cell_type": "markdown",
   "metadata": {},
   "source": [
    "## Explore inspection score\n",
    "\n",
    "### Question 6\n",
    "\n",
    "#### Question 6a\n",
    "What does the distribution of inspection score for 2016 look like? The inspection scores appear to be integer values. The discreteness of this variable means that we can use a barplot to visualize the distribution of the inspection score. Find the counts of the number of inspections in 2016 for each score. Then, make a bar plot of these counts."
   ]
  },
  {
   "cell_type": "code",
   "execution_count": 47,
   "metadata": {
    "tags": [
     "student"
    ]
   },
   "outputs": [
    {
     "name": "stdout",
     "output_type": "stream",
     "text": [
      "    score  count\n",
      "0      52      1\n",
      "1      55      3\n",
      "2      56      2\n",
      "3      57      6\n",
      "4      58      1\n",
      "5      59      4\n",
      "6      60      3\n",
      "7      61      5\n",
      "8      62      5\n",
      "9      63      8\n",
      "10     64      2\n",
      "11     65     12\n",
      "12     66     16\n",
      "13     67     19\n",
      "14     68     31\n",
      "15     69     19\n",
      "16     70     27\n",
      "17     71     30\n",
      "18     72     38\n",
      "19     73     32\n",
      "20     74     47\n",
      "21     75     48\n",
      "22     76     46\n",
      "23     77     59\n",
      "24     78     76\n",
      "25     79     75\n",
      "26     80     85\n",
      "27     81    124\n",
      "28     82    114\n",
      "29     83    159\n",
      "30     84    118\n",
      "31     85    155\n",
      "32     86    232\n",
      "33     87    202\n",
      "34     88    246\n",
      "35     89    154\n",
      "36     90    422\n",
      "37     91    130\n",
      "38     92    500\n",
      "39     93    111\n",
      "40     94    527\n",
      "41     96    700\n",
      "42     98    422\n",
      "43    100    824\n"
     ]
    },
    {
     "data": {
      "image/png": "[encoded data removed]",
      "text/plain": [
       "<matplotlib.figure.Figure at 0x10eb560f0>"
      ]
     },
     "metadata": {},
     "output_type": "display_data"
    }
   ],
   "source": [
    "scoreCts = ins2016.groupby('score').size().reset_index(name='count')\n",
    "\n",
    "print(scoreCts)\n",
    "plt.bar(scoreCts['score'], scoreCts['count'])\n",
    "plt.show()"
   ]
  },
  {
   "cell_type": "markdown",
   "metadata": {
    "tags": [
     "written"
    ]
   },
   "source": [
    "#### Question 6b\n",
    "\n",
    "Describe the qualities of the distribution of the inspections scores. Consider the mode(s), symmetry, tails, gaps, and anamolous values. Are there any unusual features of this distribution? What do your observation imply about the scores?"
   ]
  },
  {
   "cell_type": "code",
   "execution_count": 49,
   "metadata": {
    "tags": [
     "student",
     "written"
    ]
   },
   "outputs": [
    {
     "data": {
      "text/markdown": [
       "\n",
       "\n",
       "-It is left skwed, so it is not symmetric.\n",
       "\n",
       "-The gaps are really small\n",
       "\n",
       "-It has a short tail\n",
       "\n",
       "-The mode is on the right of the graph at a score of 100\n",
       "\n",
       "-There are no unusual features of this distribution\n",
       "\n",
       "-These observations imply that most businesses did really well on the inspections\n",
       "\n"
      ],
      "text/plain": [
       "<IPython.core.display.Markdown object>"
      ]
     },
     "metadata": {},
     "output_type": "display_data"
    }
   ],
   "source": [
    "q6b_answer = r\"\"\"\n",
    "\n",
    "-It is left skwed, so it is not symmetric.\n",
    "\n",
    "-The gaps are really small\n",
    "\n",
    "-It has a short tail\n",
    "\n",
    "-The mode is on the right of the graph at a score of 100\n",
    "\n",
    "-There are no unusual features of this distribution\n",
    "\n",
    "-These observations imply that most businesses did really well on the inspections\n",
    "\n",
    "\"\"\"\n",
    "\n",
    "display(Markdown(q6b_answer))"
   ]
  },
  {
   "cell_type": "markdown",
   "metadata": {},
   "source": [
    "#### Question 6c\n",
    "\n",
    "In assessing the granularity, we want to determine if there is one inspection per business per year. How many restaurants had two inspections? Three or more inspections? Create a dict mapping the number of inspections to the number of business ids with that many inspections.\n",
    "\n",
    "*Hint: pandas Series have a to_dict() method.*"
   ]
  },
  {
   "cell_type": "code",
   "execution_count": 50,
   "metadata": {
    "tags": [
     "student"
    ]
   },
   "outputs": [
    {
     "name": "stdout",
     "output_type": "stream",
     "text": [
      "      business_id  count\n",
      "0              10      1\n",
      "1              19      1\n",
      "2              24      2\n",
      "3              31      1\n",
      "4              45      2\n",
      "5              48      1\n",
      "6              50      1\n",
      "7              56      1\n",
      "8              58      1\n",
      "9              61      1\n",
      "10             66      2\n",
      "11             67      2\n",
      "12             73      1\n",
      "13             76      2\n",
      "14             77      2\n",
      "15             80      1\n",
      "16             95      1\n",
      "17             98      1\n",
      "18            101      1\n",
      "19            102      1\n",
      "20            116      1\n",
      "21            125      1\n",
      "22            132      1\n",
      "23            140      1\n",
      "24            141      1\n",
      "25            146      2\n",
      "26            151      1\n",
      "27            164      1\n",
      "28            178      1\n",
      "29            180      3\n",
      "...           ...    ...\n",
      "4513        88792      2\n",
      "4514        88799      1\n",
      "4515        88829      1\n",
      "4516        88840      1\n",
      "4517        88873      1\n",
      "4518        88878      1\n",
      "4519        88899      1\n",
      "4520        88915      1\n",
      "4521        88932      1\n",
      "4522        88954      1\n",
      "4523        89070      1\n",
      "4524        89072      1\n",
      "4525        89111      1\n",
      "4526        89191      1\n",
      "4527        89198      1\n",
      "4528        89199      1\n",
      "4529        89200      1\n",
      "4530        89201      1\n",
      "4531        89204      1\n",
      "4532        89305      1\n",
      "4533        89328      1\n",
      "4534        89453      1\n",
      "4535        89462      1\n",
      "4536        89475      1\n",
      "4537        89495      1\n",
      "4538        89515      1\n",
      "4539        89701      1\n",
      "4540        89790      1\n",
      "4541        89803      1\n",
      "4542        89900      1\n",
      "\n",
      "[4543 rows x 2 columns]\n"
     ]
    },
    {
     "data": {
      "text/plain": [
       "{1: 3329, 2: 1131, 3: 83}"
      ]
     },
     "execution_count": 50,
     "metadata": {},
     "output_type": "execute_result"
    }
   ],
   "source": [
    "ins_2=ins2016.groupby('business_id').size().reset_index(name='count')\n",
    "print(ins_2)\n",
    "numIns2numIDs = ins_2.groupby('count').size().to_dict()\n",
    "numIns2numIDs"
   ]
  },
  {
   "cell_type": "code",
   "execution_count": 51,
   "metadata": {},
   "outputs": [
    {
     "name": "stdout",
     "output_type": "stream",
     "text": [
      "~~~~~~~~~~~~~~~~~~~~~~~~~~~~~~~~~~~~~~~~~~~~~~~~~~~~~~~~~~~~~~~~~~~~~\n",
      "Running tests\n",
      "\n",
      "---------------------------------------------------------------------\n",
      "Test summary\n",
      "    Passed: 1\n",
      "    Failed: 0\n",
      "[ooooooooook] 100.0% passed\n",
      "\n"
     ]
    },
    {
     "data": {
      "application/javascript": [
       "IPython.notebook.save_checkpoint();"
      ],
      "text/plain": [
       "<IPython.core.display.Javascript object>"
      ]
     },
     "metadata": {},
     "output_type": "display_data"
    },
    {
     "data": {
      "application/javascript": [
       "IPython.notebook.save_notebook();"
      ],
      "text/plain": [
       "<IPython.core.display.Javascript object>"
      ]
     },
     "metadata": {},
     "output_type": "display_data"
    },
    {
     "name": "stdout",
     "output_type": "stream",
     "text": [
      "Saving notebook... Saved 'hw2.ipynb'.\n",
      "Backup... 100% complete\n",
      "Backup successful for user: leonrafael29@berkeley.edu\n",
      "URL: https://okpy.org/cal/ds100/fa17/hw2/backups/YE9jP2\n",
      "NOTE: this is only a backup. To submit your assignment, use:\n",
      "\tpython3 ok --submit\n",
      "\n"
     ]
    }
   ],
   "source": [
    "_ = ok.grade('q06c')\n",
    "_ = ok.backup()"
   ]
  },
  {
   "cell_type": "markdown",
   "metadata": {},
   "source": [
    "### Restaurants with multiple inspections\n",
    "\n",
    "### Question 7\n",
    "\n",
    "Some restaurants had 3 inspections in a calandar year, but not very many did. To examine the distribution of score among restaurants with two scores, we can look at the change in score from the first inspection.\n",
    "\n",
    "#### Question 7a\n",
    "\n",
    "What's the relationship between the first and second scores for the businesses with 2 inspections in a year? Do they typically improve?\n",
    "\n",
    "First, make a dataframe called, `scores_pairs_by_business`, indexed by business_id (containing only business with exactly 2 inspections in 2016).  This dataframe contains the field `score_pair` consisting of the score pairs ordered chronologically  `[first_score, second_score]`. \n",
    "\n",
    "Plot these scores. That is, make a scatter plot to display these pairs of scores. Include on the plot a reference line with slope 1. \n",
    "\n",
    "You may find the functions `sort_values`, `groupby`, `filter` and `agg` helpful, though not all necessary. \n",
    "\n",
    "The first few rows resulting table should look something like:\n",
    "\n",
    "<table border=\"1\" class=\"dataframe\">\n",
    "  <thead>\n",
    "    <tr style=\"text-align: right;\">\n",
    "      <th></th>\n",
    "      <th>score_pair</th>\n",
    "    </tr>\n",
    "    <tr>\n",
    "      <th>business_id</th>\n",
    "      <th></th>\n",
    "    </tr>\n",
    "  </thead>\n",
    "  <tbody>\n",
    "    <tr>\n",
    "      <th>24</th>\n",
    "      <td>[96, 98]</td>\n",
    "    </tr>\n",
    "    <tr>\n",
    "      <th>45</th>\n",
    "      <td>[78, 84]</td>\n",
    "    </tr>\n",
    "    <tr>\n",
    "      <th>66</th>\n",
    "      <td>[98, 100]</td>\n",
    "    </tr>\n",
    "    <tr>\n",
    "      <th>67</th>\n",
    "      <td>[87, 94]</td>\n",
    "    </tr>\n",
    "    <tr>\n",
    "      <th>76</th>\n",
    "      <td>[100, 98]</td>\n",
    "    </tr>\n",
    "  </tbody>\n",
    "</table>"
   ]
  },
  {
   "cell_type": "code",
   "execution_count": 52,
   "metadata": {
    "tags": [
     "student"
    ]
   },
   "outputs": [
    {
     "name": "stderr",
     "output_type": "stream",
     "text": [
      "/Users/leongutierrez/anaconda3/envs/ds100/lib/python3.6/site-packages/ipykernel_launcher.py:2: SettingWithCopyWarning: \n",
      "A value is trying to be set on a copy of a slice from a DataFrame.\n",
      "Try using .loc[row_indexer,col_indexer] = value instead\n",
      "\n",
      "See the caveats in the documentation: http://pandas.pydata.org/pandas-docs/stable/indexing.html#indexing-view-versus-copy\n",
      "  \n"
     ]
    }
   ],
   "source": [
    "a=ins[ins['year'] == 2016]\n",
    "a['count']= a.groupby('business_id')['business_id'].transform('count')\n",
    "b=a[a['count']==2].sort_values('business_id')\n",
    "c=b.sort_values('new_date')\n",
    "d=c.loc[:, ['business_id', 'score']]\n",
    "e=d.groupby('business_id')['score'].agg(lambda x: x.tolist())\n",
    "scores_pairs_by_business=d.groupby('business_id')['score'].agg(lambda x: x.tolist()).to_frame()\n",
    "scores_pairs_by_business.columns=['score_pair']"
   ]
  },
  {
   "cell_type": "code",
   "execution_count": 53,
   "metadata": {},
   "outputs": [
    {
     "name": "stdout",
     "output_type": "stream",
     "text": [
      "~~~~~~~~~~~~~~~~~~~~~~~~~~~~~~~~~~~~~~~~~~~~~~~~~~~~~~~~~~~~~~~~~~~~~\n",
      "Running tests\n",
      "\n",
      "---------------------------------------------------------------------\n",
      "Test summary\n",
      "    Passed: 1\n",
      "    Failed: 0\n",
      "[ooooooooook] 100.0% passed\n",
      "\n"
     ]
    },
    {
     "data": {
      "application/javascript": [
       "IPython.notebook.save_checkpoint();"
      ],
      "text/plain": [
       "<IPython.core.display.Javascript object>"
      ]
     },
     "metadata": {},
     "output_type": "display_data"
    },
    {
     "data": {
      "application/javascript": [
       "IPython.notebook.save_notebook();"
      ],
      "text/plain": [
       "<IPython.core.display.Javascript object>"
      ]
     },
     "metadata": {},
     "output_type": "display_data"
    },
    {
     "name": "stdout",
     "output_type": "stream",
     "text": [
      "Saving notebook... Saved 'hw2.ipynb'.\n",
      "Backup... 100% complete\n",
      "Backup successful for user: leonrafael29@berkeley.edu\n",
      "URL: https://okpy.org/cal/ds100/fa17/hw2/backups/2kwjBz\n",
      "NOTE: this is only a backup. To submit your assignment, use:\n",
      "\tpython3 ok --submit\n",
      "\n"
     ]
    }
   ],
   "source": [
    "_ = ok.grade('q07a')\n",
    "_ = ok.backup()"
   ]
  },
  {
   "cell_type": "code",
   "execution_count": 54,
   "metadata": {
    "tags": [
     "student",
     "written"
    ]
   },
   "outputs": [
    {
     "data": {
      "image/png": "[encoded data removed]",
      "text/plain": [
       "<matplotlib.figure.Figure at 0x110713588>"
      ]
     },
     "metadata": {},
     "output_type": "display_data"
    }
   ],
   "source": [
    "# Create scatter plot here.\n",
    "plt.scatter(scores_pairs_by_business['score_pair'].str[0], scores_pairs_by_business['score_pair'].str[1])\n",
    "plt.plot([60,100],[60,100])\n",
    "plt.show()\n"
   ]
  },
  {
   "cell_type": "markdown",
   "metadata": {},
   "source": [
    "#### Question 7b\n",
    "\n",
    "Another way to compare the scores from the two inspections is to examine the difference in scores. Subtract the first score from the second in `scores_pairs_by_business`. Make a histogram of these differences in the scores. We might expect these differences to be positive, indicating an improvement from the first to the second inspection."
   ]
  },
  {
   "cell_type": "code",
   "execution_count": 55,
   "metadata": {
    "tags": [
     "student",
     "written"
    ]
   },
   "outputs": [
    {
     "data": {
      "image/png": "[encoded data removed]",
      "text/plain": [
       "<matplotlib.figure.Figure at 0x110713860>"
      ]
     },
     "metadata": {},
     "output_type": "display_data"
    }
   ],
   "source": [
    "plt.hist(scores_pairs_by_business['score_pair'].str[1]-scores_pairs_by_business['score_pair'].str[0])\n",
    "plt.show()"
   ]
  },
  {
   "cell_type": "markdown",
   "metadata": {},
   "source": [
    "#### Question 7c\n",
    "\n",
    "If a restaurant's score improves from the first to the second inspection, what do you expect to see in the scatter plot that you made in 7a? What do you see?\n",
    "\n",
    "If a restaurant's score improves from the first to the second inspection, how would this be reflected in the histogram of the difference in the scores that you made in 7b? What do you see?"
   ]
  },
  {
   "cell_type": "code",
   "execution_count": 57,
   "metadata": {
    "tags": [
     "student",
     "written"
    ]
   },
   "outputs": [
    {
     "data": {
      "text/markdown": [
       "\n",
       "\n",
       "-If the restaurant's score imporves from the first to the second inspection, I would expect to see all the points graphed above the unit line. However, in the actual scatter plot there are many points below the line, which means that the restaurants did worse the second time around.\n",
       "\n",
       "\n",
       "-If the restaurant's core improves from the frist to the second inspection, it would be reflected in the histogram by having only a positive x-axis. However, all restaurants' scores got worse. In the histogram from 7b the x-axis also has negative values. \n",
       "\n"
      ],
      "text/plain": [
       "<IPython.core.display.Markdown object>"
      ]
     },
     "metadata": {},
     "output_type": "display_data"
    }
   ],
   "source": [
    "q7c_answer = r\"\"\"\n",
    "\n",
    "-If the restaurant's score imporves from the first to the second inspection, I would expect to see all the points graphed above the unit line. However, in the actual scatter plot there are many points below the line, which means that the restaurants did worse the second time around.\n",
    "\n",
    "\n",
    "-If the restaurant's core improves from the frist to the second inspection, it would be reflected in the histogram by having only a positive x-axis. However, all restaurants' scores got worse. In the histogram from 7b the x-axis also has negative values. \n",
    "\n",
    "\"\"\"\n",
    "\n",
    "display(Markdown(q7c_answer))"
   ]
  },
  {
   "cell_type": "markdown",
   "metadata": {},
   "source": [
    "## Summary of the inspections data\n",
    "\n",
    "What we have learned about the inspections data? What might be some next steps in our investigation? \n",
    "\n",
    "* We found that the records are at the inspection level and that we have inspections for multiple years.   \n",
    "* We also found that may restaurants have more than one inspection a year. In the future, we may want to roll some of the information about the inspections up to the business/restaurant level and join the inspection information with the business dataframe. For example, we could make maps of inspection scores for restaurants.\n",
    "* We also examined the relationship between the scores when a restaurant has multiple inspections in a year. Our findings were a bit counterintuitive and we warrant further investigation. It also makes sense to learn more about the inspection process to help us understand the connections between scores from multiple inspections. \n"
   ]
  },
  {
   "cell_type": "markdown",
   "metadata": {},
   "source": [
    "# Violations Data\n",
    "\n",
    "Lastly, we will explore the `vio` data set. As with the first two DataFreames, we want to determine the granularity of the data, the number of records and fields, and we want to investigate the fields (variables). "
   ]
  },
  {
   "cell_type": "markdown",
   "metadata": {},
   "source": [
    "### Question 8\n",
    "\n",
    "#### Question 8a\n",
    "\n",
    "How many records are in `vio`? What does this tell you about the granularity of `vio` in comparison to `bus` and `ins`? "
   ]
  },
  {
   "cell_type": "code",
   "execution_count": 58,
   "metadata": {
    "tags": [
     "student",
     "written"
    ]
   },
   "outputs": [
    {
     "data": {
      "text/markdown": [
       "\n",
       "\n",
       "There are 40936 records, this means that the granulaty of vio is even higher that the one of bus and ins because it provides with detail all the violations for every inspection.\n",
       "\n"
      ],
      "text/plain": [
       "<IPython.core.display.Markdown object>"
      ]
     },
     "metadata": {},
     "output_type": "display_data"
    }
   ],
   "source": [
    "q8a_answer = r\"\"\"\n",
    "\n",
    "There are 40936 records, this means that the granulaty of vio is even higher that the one of bus and ins because it provides with detail all the violations for every inspection.\n",
    "\n",
    "\"\"\"\n",
    "display(Markdown(q8a_answer))"
   ]
  },
  {
   "cell_type": "markdown",
   "metadata": {},
   "source": [
    "Let's examine the first few rows of `vio` to see if that provides addtional information about the granularity."
   ]
  },
  {
   "cell_type": "code",
   "execution_count": 59,
   "metadata": {},
   "outputs": [
    {
     "data": {
      "text/html": [
       "<div>\n",
       "<style>\n",
       "    .dataframe thead tr:only-child th {\n",
       "        text-align: right;\n",
       "    }\n",
       "\n",
       "    .dataframe thead th {\n",
       "        text-align: left;\n",
       "    }\n",
       "\n",
       "    .dataframe tbody tr th {\n",
       "        vertical-align: top;\n",
       "    }\n",
       "</style>\n",
       "<table border=\"1\" class=\"dataframe\">\n",
       "  <thead>\n",
       "    <tr style=\"text-align: right;\">\n",
       "      <th></th>\n",
       "      <th>business_id</th>\n",
       "      <th>date</th>\n",
       "      <th>description</th>\n",
       "    </tr>\n",
       "  </thead>\n",
       "  <tbody>\n",
       "    <tr>\n",
       "      <th>0</th>\n",
       "      <td>10</td>\n",
       "      <td>20160503</td>\n",
       "      <td>High risk food holding temperature   [ date vi...</td>\n",
       "    </tr>\n",
       "    <tr>\n",
       "      <th>1</th>\n",
       "      <td>10</td>\n",
       "      <td>20160503</td>\n",
       "      <td>High risk food holding temperature   [ date vi...</td>\n",
       "    </tr>\n",
       "    <tr>\n",
       "      <th>2</th>\n",
       "      <td>10</td>\n",
       "      <td>20160503</td>\n",
       "      <td>High risk vermin infestation</td>\n",
       "    </tr>\n",
       "    <tr>\n",
       "      <th>3</th>\n",
       "      <td>10</td>\n",
       "      <td>20160503</td>\n",
       "      <td>Unapproved or unmaintained equipment or utensils</td>\n",
       "    </tr>\n",
       "    <tr>\n",
       "      <th>4</th>\n",
       "      <td>10</td>\n",
       "      <td>20160503</td>\n",
       "      <td>No thermometers or uncalibrated thermometers</td>\n",
       "    </tr>\n",
       "    <tr>\n",
       "      <th>5</th>\n",
       "      <td>10</td>\n",
       "      <td>20140729</td>\n",
       "      <td>Insufficient hot water or running water  [ dat...</td>\n",
       "    </tr>\n",
       "    <tr>\n",
       "      <th>6</th>\n",
       "      <td>10</td>\n",
       "      <td>20140729</td>\n",
       "      <td>Unapproved or unmaintained equipment or utensi...</td>\n",
       "    </tr>\n",
       "    <tr>\n",
       "      <th>7</th>\n",
       "      <td>10</td>\n",
       "      <td>20140114</td>\n",
       "      <td>Improper storage of equipment utensils or line...</td>\n",
       "    </tr>\n",
       "    <tr>\n",
       "      <th>8</th>\n",
       "      <td>10</td>\n",
       "      <td>20140114</td>\n",
       "      <td>Unclean or degraded floors walls or ceilings  ...</td>\n",
       "    </tr>\n",
       "    <tr>\n",
       "      <th>9</th>\n",
       "      <td>10</td>\n",
       "      <td>20140114</td>\n",
       "      <td>Inadequate and inaccessible handwashing facili...</td>\n",
       "    </tr>\n",
       "  </tbody>\n",
       "</table>\n",
       "</div>"
      ],
      "text/plain": [
       "   business_id      date                                        description\n",
       "0           10  20160503  High risk food holding temperature   [ date vi...\n",
       "1           10  20160503  High risk food holding temperature   [ date vi...\n",
       "2           10  20160503                       High risk vermin infestation\n",
       "3           10  20160503   Unapproved or unmaintained equipment or utensils\n",
       "4           10  20160503      No thermometers or uncalibrated thermometers \n",
       "5           10  20140729  Insufficient hot water or running water  [ dat...\n",
       "6           10  20140729  Unapproved or unmaintained equipment or utensi...\n",
       "7           10  20140114  Improper storage of equipment utensils or line...\n",
       "8           10  20140114  Unclean or degraded floors walls or ceilings  ...\n",
       "9           10  20140114  Inadequate and inaccessible handwashing facili..."
      ]
     },
     "execution_count": 59,
     "metadata": {},
     "output_type": "execute_result"
    }
   ],
   "source": [
    "vio.head(10)"
   ]
  },
  {
   "cell_type": "markdown",
   "metadata": {},
   "source": [
    "Just looking at the first few records in `vio` we see that each inspection has multiple entries. Reading the descriptions, we see that if corrected, a date is listed in the description within square brackets. This date appears to be the same date as the inspection.\n",
    "We will consider how to derive features from the `description` field when we cover the topic of regular expressions."
   ]
  },
  {
   "cell_type": "markdown",
   "metadata": {},
   "source": [
    "#### Question 8b\n",
    "\n",
    "As with the inspections data frame, let's examine only records for 2016. \n",
    "Recall that the dates in the `ins` file are formatted as strings such as 20160503. As before, convert these dates into a datetime object called `new_date`, and create a new colum called `year` that contains the year only. "
   ]
  },
  {
   "cell_type": "code",
   "execution_count": 60,
   "metadata": {
    "collapsed": true,
    "tags": [
     "student"
    ]
   },
   "outputs": [],
   "source": [
    "vio['new_date'] = pd.to_datetime(vio['date'], format=\"%Y%m%d\")\n",
    "vio['year']     = vio['new_date'].dt.year\n",
    "vio2016 =vio[vio['year'] == 2016]\n",
    "\n"
   ]
  },
  {
   "cell_type": "code",
   "execution_count": 61,
   "metadata": {},
   "outputs": [
    {
     "name": "stdout",
     "output_type": "stream",
     "text": [
      "~~~~~~~~~~~~~~~~~~~~~~~~~~~~~~~~~~~~~~~~~~~~~~~~~~~~~~~~~~~~~~~~~~~~~\n",
      "Running tests\n",
      "\n",
      "---------------------------------------------------------------------\n",
      "Test summary\n",
      "    Passed: 1\n",
      "    Failed: 0\n",
      "[ooooooooook] 100.0% passed\n",
      "\n"
     ]
    },
    {
     "data": {
      "application/javascript": [
       "IPython.notebook.save_checkpoint();"
      ],
      "text/plain": [
       "<IPython.core.display.Javascript object>"
      ]
     },
     "metadata": {},
     "output_type": "display_data"
    },
    {
     "data": {
      "application/javascript": [
       "IPython.notebook.save_notebook();"
      ],
      "text/plain": [
       "<IPython.core.display.Javascript object>"
      ]
     },
     "metadata": {},
     "output_type": "display_data"
    },
    {
     "name": "stdout",
     "output_type": "stream",
     "text": [
      "Saving notebook... Saved 'hw2.ipynb'.\n",
      "Backup... 100% complete\n",
      "Backup successful for user: leonrafael29@berkeley.edu\n",
      "URL: https://okpy.org/cal/ds100/fa17/hw2/backups/jR9Erv\n",
      "NOTE: this is only a backup. To submit your assignment, use:\n",
      "\tpython3 ok --submit\n",
      "\n"
     ]
    }
   ],
   "source": [
    "_ = ok.grade('q08b')\n",
    "_ = ok.backup()"
   ]
  },
  {
   "cell_type": "markdown",
   "metadata": {},
   "source": [
    "## Number of violations\n",
    "\n",
    "When we explore data, we often create new variables that we think might be useful in our analysis. For example, a variable that contains the number of violation records per inspection may be of interest. We might want to see if the number of inspections is correlated with the inspection score.  Or, we might be interested in whether the score improves on the second inspection. \n",
    "\n",
    "#### Question 8c\n",
    "Derive a variable, `num_vio`, that contains the number of violations in a restaurant inspection."
   ]
  },
  {
   "cell_type": "code",
   "execution_count": 69,
   "metadata": {
    "collapsed": true,
    "tags": [
     "student"
    ]
   },
   "outputs": [],
   "source": [
    "ins2016=pd.merge(ins2016, vio2016.groupby(['business_id','new_date']).size().reset_index(name='num_vio'), how='left').fillna(0)\n"
   ]
  },
  {
   "cell_type": "code",
   "execution_count": 70,
   "metadata": {
    "scrolled": true
   },
   "outputs": [
    {
     "name": "stdout",
     "output_type": "stream",
     "text": [
      "~~~~~~~~~~~~~~~~~~~~~~~~~~~~~~~~~~~~~~~~~~~~~~~~~~~~~~~~~~~~~~~~~~~~~\n",
      "Running tests\n",
      "\n",
      "---------------------------------------------------------------------\n",
      "Test summary\n",
      "    Passed: 1\n",
      "    Failed: 0\n",
      "[ooooooooook] 100.0% passed\n",
      "\n"
     ]
    },
    {
     "data": {
      "application/javascript": [
       "IPython.notebook.save_checkpoint();"
      ],
      "text/plain": [
       "<IPython.core.display.Javascript object>"
      ]
     },
     "metadata": {},
     "output_type": "display_data"
    },
    {
     "data": {
      "application/javascript": [
       "IPython.notebook.save_notebook();"
      ],
      "text/plain": [
       "<IPython.core.display.Javascript object>"
      ]
     },
     "metadata": {},
     "output_type": "display_data"
    },
    {
     "name": "stdout",
     "output_type": "stream",
     "text": [
      "Saving notebook... Saved 'hw2.ipynb'.\n",
      "Submit... 100% complete\n",
      "Submission successful for user: leonrafael29@berkeley.edu\n",
      "URL: https://okpy.org/cal/ds100/fa17/hw2/submissions/n59L17\n",
      "NOTE: this is only a backup. To submit your assignment, use:\n",
      "\tpython3 ok --submit\n",
      "\n"
     ]
    }
   ],
   "source": [
    "_ = ok.grade('q08c')\n",
    "_ = ok.backup()"
   ]
  },
  {
   "cell_type": "markdown",
   "metadata": {},
   "source": [
    "#### Question 8d\n",
    "\n",
    "Now that we have created this new varable, let's examine its distribution. \n",
    "Make a histogram of `num_vio` and describe its shape."
   ]
  },
  {
   "cell_type": "code",
   "execution_count": 64,
   "metadata": {
    "tags": [
     "student"
    ]
   },
   "outputs": [
    {
     "data": {
      "image/png": "[encoded data removed]",
      "text/plain": [
       "<matplotlib.figure.Figure at 0x1106e8dd8>"
      ]
     },
     "metadata": {},
     "output_type": "display_data"
    }
   ],
   "source": [
    "plt.hist(ins2016['num_vio'])\n",
    "plt.show()"
   ]
  },
  {
   "cell_type": "code",
   "execution_count": 65,
   "metadata": {
    "tags": [
     "student",
     "written"
    ]
   },
   "outputs": [
    {
     "data": {
      "text/markdown": [
       "\n",
       "\n",
       "-It has two modes\n",
       "\n",
       "-It is righr skewed\n",
       "\n",
       "-There is a gap between 11 and 14\n",
       "\n"
      ],
      "text/plain": [
       "<IPython.core.display.Markdown object>"
      ]
     },
     "metadata": {},
     "output_type": "display_data"
    }
   ],
   "source": [
    "q8d_answer = r\"\"\"\n",
    "\n",
    "-It has two modes\n",
    "\n",
    "-It is righr skewed\n",
    "\n",
    "-There is a gap between 11 and 14\n",
    "\n",
    "\"\"\"\n",
    "\n",
    "display(Markdown(q8d_answer))"
   ]
  },
  {
   "cell_type": "markdown",
   "metadata": {},
   "source": [
    "## Summary of the violations data\n",
    "\n",
    "Let's take stock of what we have learned about the violations data and what might be the next steps in our investigation. \n",
    "\n",
    "* We found that the records consist of the violations that were found on an inspection. And from inspection it seems that if a violation is corrected this information is provided in the description field.\n",
    "* We also found that the distribution of the number of violations shows that some restaurants had many violations. \n",
    "* In the future, we might want to investigate the relationship between the inspection score and the number of violations. Additionally, it might be interesting to pursue possible connections between the type of violation and the score\n"
   ]
  },
  {
   "cell_type": "markdown",
   "metadata": {},
   "source": [
    "## Submission\n",
    "\n",
    "Congrats! You are finished with HW2. For convenience, we've included a cell below that runs all the OkPy tests."
   ]
  },
  {
   "cell_type": "code",
   "execution_count": 66,
   "metadata": {},
   "outputs": [
    {
     "name": "stdout",
     "output_type": "stream",
     "text": [
      "Running all tests...\n",
      "~~~~~~~~~~~~~~~~~~~~~~~~~~~~~~~~~~~~~~~~~~~~~~~~~~~~~~~~~~~~~~~~~~~~~\n",
      "Running tests\n",
      "\n",
      "---------------------------------------------------------------------\n",
      "Test summary\n",
      "    Passed: 1\n",
      "    Failed: 0\n",
      "[ooooooooook] 100.0% passed\n",
      "\n",
      "~~~~~~~~~~~~~~~~~~~~~~~~~~~~~~~~~~~~~~~~~~~~~~~~~~~~~~~~~~~~~~~~~~~~~\n",
      "Running tests\n",
      "\n",
      "---------------------------------------------------------------------\n",
      "Test summary\n",
      "    Passed: 1\n",
      "    Failed: 0\n",
      "[ooooooooook] 100.0% passed\n",
      "\n",
      "~~~~~~~~~~~~~~~~~~~~~~~~~~~~~~~~~~~~~~~~~~~~~~~~~~~~~~~~~~~~~~~~~~~~~\n",
      "Running tests\n",
      "\n",
      "---------------------------------------------------------------------\n",
      "Test summary\n",
      "    Passed: 4\n",
      "    Failed: 0\n",
      "[ooooooooook] 100.0% passed\n",
      "\n",
      "~~~~~~~~~~~~~~~~~~~~~~~~~~~~~~~~~~~~~~~~~~~~~~~~~~~~~~~~~~~~~~~~~~~~~\n",
      "Running tests\n",
      "\n",
      "---------------------------------------------------------------------\n",
      "Test summary\n",
      "    Passed: 1\n",
      "    Failed: 0\n",
      "[ooooooooook] 100.0% passed\n",
      "\n",
      "~~~~~~~~~~~~~~~~~~~~~~~~~~~~~~~~~~~~~~~~~~~~~~~~~~~~~~~~~~~~~~~~~~~~~\n",
      "Running tests\n",
      "\n",
      "---------------------------------------------------------------------\n",
      "Test summary\n",
      "    Passed: 1\n",
      "    Failed: 0\n",
      "[ooooooooook] 100.0% passed\n",
      "\n",
      "~~~~~~~~~~~~~~~~~~~~~~~~~~~~~~~~~~~~~~~~~~~~~~~~~~~~~~~~~~~~~~~~~~~~~\n",
      "Running tests\n",
      "\n",
      "---------------------------------------------------------------------\n",
      "Test summary\n",
      "    Passed: 1\n",
      "    Failed: 0\n",
      "[ooooooooook] 100.0% passed\n",
      "\n",
      "~~~~~~~~~~~~~~~~~~~~~~~~~~~~~~~~~~~~~~~~~~~~~~~~~~~~~~~~~~~~~~~~~~~~~\n",
      "Running tests\n",
      "\n",
      "---------------------------------------------------------------------\n",
      "Test summary\n",
      "    Passed: 1\n",
      "    Failed: 0\n",
      "[ooooooooook] 100.0% passed\n",
      "\n",
      "~~~~~~~~~~~~~~~~~~~~~~~~~~~~~~~~~~~~~~~~~~~~~~~~~~~~~~~~~~~~~~~~~~~~~\n",
      "Running tests\n",
      "\n",
      "---------------------------------------------------------------------\n",
      "Test summary\n",
      "    Passed: 1\n",
      "    Failed: 0\n",
      "[ooooooooook] 100.0% passed\n",
      "\n",
      "~~~~~~~~~~~~~~~~~~~~~~~~~~~~~~~~~~~~~~~~~~~~~~~~~~~~~~~~~~~~~~~~~~~~~\n",
      "Running tests\n",
      "\n",
      "---------------------------------------------------------------------\n",
      "Test summary\n",
      "    Passed: 1\n",
      "    Failed: 0\n",
      "[ooooooooook] 100.0% passed\n",
      "\n",
      "~~~~~~~~~~~~~~~~~~~~~~~~~~~~~~~~~~~~~~~~~~~~~~~~~~~~~~~~~~~~~~~~~~~~~\n",
      "Running tests\n",
      "\n",
      "---------------------------------------------------------------------\n",
      "Test summary\n",
      "    Passed: 1\n",
      "    Failed: 0\n",
      "[ooooooooook] 100.0% passed\n",
      "\n",
      "~~~~~~~~~~~~~~~~~~~~~~~~~~~~~~~~~~~~~~~~~~~~~~~~~~~~~~~~~~~~~~~~~~~~~\n",
      "Running tests\n",
      "\n",
      "---------------------------------------------------------------------\n",
      "Test summary\n",
      "    Passed: 1\n",
      "    Failed: 0\n",
      "[ooooooooook] 100.0% passed\n",
      "\n",
      "~~~~~~~~~~~~~~~~~~~~~~~~~~~~~~~~~~~~~~~~~~~~~~~~~~~~~~~~~~~~~~~~~~~~~\n",
      "Running tests\n",
      "\n",
      "---------------------------------------------------------------------\n",
      "Test summary\n",
      "    Passed: 1\n",
      "    Failed: 0\n",
      "[ooooooooook] 100.0% passed\n",
      "\n"
     ]
    }
   ],
   "source": [
    "import os\n",
    "print(\"Running all tests...\")\n",
    "_ = [ok.grade(q[:-3]) for q in os.listdir(\"ok_tests\") if q.startswith('q')]"
   ]
  },
  {
   "cell_type": "markdown",
   "metadata": {},
   "source": [
    "Now, run the cell below to submit your assignment to OkPy. The autograder should email you shortly with your autograded score. The autograder will only run once every 30 minutes.\n",
    "\n",
    "**If you're failing tests on the autograder but pass them locally**, you should simulate the autograder by doing the following:\n",
    "\n",
    "1. In the top menu, click Kernel -> Restart and Run all.\n",
    "2. Run the cell above to run each OkPy test.\n",
    "\n",
    "**You must make sure that you pass all the tests when running steps 1 and 2 in order.** If you are still failing autograder tests, you should double check your results."
   ]
  },
  {
   "cell_type": "code",
   "execution_count": null,
   "metadata": {},
   "outputs": [],
   "source": [
    "_ = ok.submit()"
   ]
  },
  {
   "cell_type": "markdown",
   "metadata": {},
   "source": [
    "Also, as of this writing there's a bug in OkPy where it will say:\n",
    "\n",
    "```\n",
    "NOTE: this is only a backup. To submit your assignment, use:\n",
    "\tpython3 ok --submit\n",
    "```\n",
    "\n",
    "when running the cell above. Don't worry about that; if you can visit OkPy and see your submission, you've submitted the assignment.\n",
    "\n",
    "Even if you forget to run the cell above, we'll automatically take your latest backup when grading so don't worry about that."
   ]
  }
 ],
 "metadata": {
  "anaconda-cloud": {},
  "kernelspec": {
   "display_name": "Python 3",
   "language": "python",
   "name": "python3"
  },
  "language_info": {
   "codemirror_mode": {
    "name": "ipython",
    "version": 3
   },
   "file_extension": ".py",
   "mimetype": "text/x-python",
   "name": "python",
   "nbconvert_exporter": "python",
   "pygments_lexer": "ipython3",
   "version": "3.6.1"
  }
 },
 "nbformat": 4,
 "nbformat_minor": 2
}
